{
 "cells": [
  {
   "cell_type": "code",
   "execution_count": 1,
   "id": "171d3499",
   "metadata": {
    "scrolled": true
   },
   "outputs": [],
   "source": [
    "import numpy as np\n",
    "import pandas as pd\n",
    "import pickle\n",
    "from statistics import mode\n",
    "import nltk\n",
    "from nltk import word_tokenize\n",
    "from nltk.stem import LancasterStemmer\n",
    "from sklearn import preprocessing\n",
    "from nltk.corpus import stopwords\n",
    "from tensorflow.keras.models import Model\n",
    "from tensorflow.keras import models\n",
    "from tensorflow.keras import backend as K\n",
    "from tensorflow.keras.preprocessing.sequence import pad_sequences\n",
    "from tensorflow.keras.preprocessing.text import Tokenizer \n",
    "from tensorflow.keras.utils import plot_model\n",
    "from tensorflow.keras.layers import Input,LSTM,Embedding,Dense,Concatenate,Attention\n",
    "from sklearn.model_selection import train_test_split\n",
    "from bs4 import BeautifulSoup\n",
    "from sklearn.feature_extraction.text import CountVectorizer"
   ]
  },
  {
   "cell_type": "code",
   "execution_count": 2,
   "id": "fe1dab44",
   "metadata": {},
   "outputs": [],
   "source": [
    "# Read the dataset file for text Summarizer\n",
    "df=pd.read_csv(\"text-generator.csv\",  encoding='cp1252')\n",
    "# Drop the duplicate and na values from the records\n",
    "df.drop_duplicates(subset=['Text'],inplace=True)\n",
    "df.dropna(axis=0,inplace=True)\n",
    "input_data = df.loc[:,'Text']\n",
    "target_data = df.loc[:,'Summary']\n",
    "# df.head()\n",
    "# df"
   ]
  },
  {
   "cell_type": "code",
   "execution_count": 3,
   "id": "9a1ace17",
   "metadata": {},
   "outputs": [
    {
     "name": "stdout",
     "output_type": "stream",
     "text": [
      "(365, 2)\n"
     ]
    }
   ],
   "source": [
    "print(df.shape)"
   ]
  },
  {
   "cell_type": "code",
   "execution_count": 4,
   "id": "26fa6a33",
   "metadata": {},
   "outputs": [
    {
     "name": "stdout",
     "output_type": "stream",
     "text": [
      "Null columns (Summary) =  0\n",
      "Null columns (Text) =  0\n"
     ]
    }
   ],
   "source": [
    "print(\"Null columns (Summary) = \", df['Summary'].isnull().sum())\n",
    "print(\"Null columns (Text) = \", df['Text'].isnull().sum())"
   ]
  },
  {
   "cell_type": "code",
   "execution_count": 3,
   "id": "19fda273",
   "metadata": {},
   "outputs": [
    {
     "name": "stdout",
     "output_type": "stream",
     "text": [
      "(382, 2)\n"
     ]
    },
    {
     "data": {
      "text/html": [
       "<div>\n",
       "<style scoped>\n",
       "    .dataframe tbody tr th:only-of-type {\n",
       "        vertical-align: middle;\n",
       "    }\n",
       "\n",
       "    .dataframe tbody tr th {\n",
       "        vertical-align: top;\n",
       "    }\n",
       "\n",
       "    .dataframe thead th {\n",
       "        text-align: right;\n",
       "    }\n",
       "</style>\n",
       "<table border=\"1\" class=\"dataframe\">\n",
       "  <thead>\n",
       "    <tr style=\"text-align: right;\">\n",
       "      <th></th>\n",
       "      <th>Text</th>\n",
       "      <th>Summary</th>\n",
       "    </tr>\n",
       "  </thead>\n",
       "  <tbody>\n",
       "    <tr>\n",
       "      <th>0</th>\n",
       "      <td>when we have your consent this includes sharin...</td>\n",
       "      <td>sharing information with other services with c...</td>\n",
       "    </tr>\n",
       "    <tr>\n",
       "      <th>1</th>\n",
       "      <td>your account information you must provide your...</td>\n",
       "      <td>why collecting the account information</td>\n",
       "    </tr>\n",
       "    <tr>\n",
       "      <th>2</th>\n",
       "      <td>no information collected in our contact form i...</td>\n",
       "      <td>contact forms information is not stored</td>\n",
       "    </tr>\n",
       "    <tr>\n",
       "      <th>3</th>\n",
       "      <td>we may provide other rights for residents of s...</td>\n",
       "      <td>protecting information</td>\n",
       "    </tr>\n",
       "    <tr>\n",
       "      <th>4</th>\n",
       "      <td>if you close your account or request that we d...</td>\n",
       "      <td>the procedure of delete personal data</td>\n",
       "    </tr>\n",
       "  </tbody>\n",
       "</table>\n",
       "</div>"
      ],
      "text/plain": [
       "                                                Text  \\\n",
       "0  when we have your consent this includes sharin...   \n",
       "1  your account information you must provide your...   \n",
       "2  no information collected in our contact form i...   \n",
       "3  we may provide other rights for residents of s...   \n",
       "4  if you close your account or request that we d...   \n",
       "\n",
       "                                             Summary  \n",
       "0  sharing information with other services with c...  \n",
       "1             why collecting the account information  \n",
       "2            contact forms information is not stored  \n",
       "3                             protecting information  \n",
       "4              the procedure of delete personal data  "
      ]
     },
     "execution_count": 3,
     "metadata": {},
     "output_type": "execute_result"
    }
   ],
   "source": [
    "# shuffling rows\n",
    "df = df.sample(frac=1).reset_index(drop=True)\n",
    "print(df.shape)\n",
    "df.head()"
   ]
  },
  {
   "cell_type": "code",
   "execution_count": 4,
   "id": "737807a9",
   "metadata": {},
   "outputs": [],
   "source": [
    "input_texts=[]\n",
    "target_texts=[]\n",
    "input_words=[]\n",
    "target_words=[]\n",
    "contractions=pickle.load(open(\"contractions.pkl\",\"rb\"))['contractions']\n",
    "stop_words=set(stopwords.words('english'))"
   ]
  },
  {
   "cell_type": "code",
   "execution_count": 5,
   "id": "20b88866",
   "metadata": {},
   "outputs": [],
   "source": [
    "def clean(texts):\n",
    "    # Tokenize the text into words \n",
    "    words=word_tokenize(texts.lower())\n",
    "    # Contraction file to expand shortened words\n",
    "#     words= [contractions[w] if w in contractions else w for w in words ]\n",
    "#     words= [w for w in words if w not in stop_words]\n",
    "#     print (words)\n",
    "    return words"
   ]
  },
  {
   "cell_type": "code",
   "execution_count": 6,
   "id": "15f77dd7",
   "metadata": {},
   "outputs": [],
   "source": [
    "# Pass the input records and taret records\n",
    "for in_txt,tr_txt in zip(input_data,target_data):\n",
    "    in_words= in_txt\n",
    "    input_texts+= [' '.join(in_words)]\n",
    "    input_words+= in_words\n",
    "    # Add 'start' at start and 'end' at end of text\n",
    "    tr_words= clean(\"start \"+tr_txt+\" end\")\n",
    "    target_texts+= [' '.join(tr_words)]\n",
    "    target_words+= tr_words"
   ]
  },
  {
   "cell_type": "code",
   "execution_count": 7,
   "id": "a7488ac3",
   "metadata": {},
   "outputs": [
    {
     "name": "stdout",
     "output_type": "stream",
     "text": [
      "number of input words :  39\n",
      "number of target words :  503\n",
      "maximum input length :  347\n",
      "maximum target length :  47\n"
     ]
    }
   ],
   "source": [
    "# Store only unique words from input and target list of words\n",
    "input_words = sorted(list(set(input_words)))\n",
    "target_words = sorted(list(set(target_words)))\n",
    "num_in_words = len(input_words) #total number of input words\n",
    "num_tr_words = len(target_words) #total number of target words\n",
    " \n",
    "# Get the length of the input and target texts which appears most often  \n",
    "max_in_len = mode([len(i) for i in input_texts])\n",
    "max_tr_len = mode([len(i) for i in target_texts])\n",
    " \n",
    "print(\"number of input words : \",num_in_words)\n",
    "print(\"number of target words : \",num_tr_words)\n",
    "print(\"maximum input length : \",max_in_len)\n",
    "print(\"maximum target length : \",max_tr_len)\n",
    "# print(\"maximum target length : \",100)"
   ]
  },
  {
   "cell_type": "code",
   "execution_count": 8,
   "id": "0ffba3a4",
   "metadata": {
    "scrolled": true
   },
   "outputs": [
    {
     "data": {
      "image/png": "[encoded data removed]",
      "text/plain": [
       "<Figure size 432x288 with 2 Axes>"
      ]
     },
     "metadata": {
      "needs_background": "light"
     },
     "output_type": "display_data"
    }
   ],
   "source": [
    "import matplotlib.pyplot as plt\n",
    "text_word_count = []\n",
    "summary_word_count = []\n",
    "\n",
    "# populate the lists with sentence lengths\n",
    "for i in input_texts:\n",
    "      text_word_count.append(len(i.split()))\n",
    "\n",
    "for i in target_texts:\n",
    "      summary_word_count.append(len(i.split()))\n",
    "\n",
    "# print(\"text_word_count\",text_word_count)\n",
    "# print(\"summary_word_count\",summary_word_count)\n",
    "length_df = pd.DataFrame({'text':text_word_count, 'summary':summary_word_count})\n",
    "length_df.hist(bins = 30)\n",
    "plt.show()"
   ]
  },
  {
   "cell_type": "code",
   "execution_count": 9,
   "id": "fff12481",
   "metadata": {},
   "outputs": [],
   "source": [
    "from nltk.stem import WordNetLemmatizer  # lammatizer from WordNet\n",
    "from bs4 import BeautifulSoup \n",
    "\n",
    "def clean_word2vec(review):  \n",
    "    \n",
    "    # 1. Removing html tags\n",
    "    paragraph_text = BeautifulSoup(review,\"lxml\").get_text()\n",
    "    \n",
    "    # 2. Retaining only alphabets.\n",
    "    paragraph_text = re.sub(\"[^a-zA-Z]\",\" \",paragraph_text)\n",
    "    \n",
    "    # 3. Converting to lower case and splitting\n",
    "    word_tokens= paragraph_text.lower().split()\n",
    "    \n",
    "    # 4. Remove stopwords\n",
    "    le=WordNetLemmatizer()\n",
    "    stop_words= set(stopwords.words(\"english\"))     \n",
    "    word_tokens= [le.lemmatize(w) for w in word_tokens if not w in stop_words]\n",
    "    \n",
    "    cleaned_paragraph=\" \".join(word_tokens)\n",
    "    return cleaned_paragraph"
   ]
  },
  {
   "cell_type": "code",
   "execution_count": 15,
   "id": "9695f015",
   "metadata": {},
   "outputs": [
    {
     "name": "stdout",
     "output_type": "stream",
     "text": [
      "x_vocab_size =  37\n",
      "<keras.preprocessing.text.Tokenizer object at 0x0000028945079820>\n",
      "y_vocab_size =  473\n"
     ]
    }
   ],
   "source": [
    "# Split the input and target text into 80:20 ratio or testing size of 20%.\n",
    "x_train,x_test,y_train,y_test = train_test_split(input_texts,\n",
    "                                                 target_texts,\n",
    "                                                 test_size=0.1,\n",
    "                                                 random_state=40,\n",
    "                                                 shuffle=True)\n",
    "\n",
    "# Train the tokenizer with all the words\n",
    "  # prepare a tokenizer for texts on training data\n",
    "in_tokenizer = Tokenizer()\n",
    "in_tokenizer.fit_on_texts(x_train)\n",
    "  # preparing a tokenizer for summary on training data \n",
    "tr_tokenizer = Tokenizer()\n",
    "tr_tokenizer.fit_on_texts(y_train)\n",
    "\n",
    "# Convert text into sequence of integers where the integer will be the index of that word\n",
    "x_train= in_tokenizer.texts_to_sequences(x_train) \n",
    "y_train= tr_tokenizer.texts_to_sequences(y_train)\n",
    "\n",
    "# Pad array of 0's if the length is less than the maximum length \n",
    "en_in_data= pad_sequences(x_train,  maxlen=max_in_len, padding='post') \n",
    "dec_data= pad_sequences(y_train,  maxlen=max_tr_len, padding='post')\n",
    "\n",
    "\n",
    "# minmax_scale = preprocessing.MinMaxScaler(feature_range=(0, 1))\n",
    "# # x = np.array(x_train)\n",
    "# en_in_data = minmax_scale.fit_transform(en_in_data)\n",
    "# # print(en_in_data)\n",
    " \n",
    "# Decoder input data will not include the last word \n",
    "# i.e. 'end' in decoder input data\n",
    "dec_in_data = dec_data[:,:-1]\n",
    "\n",
    "# Decoder target data will be one time step ahead as it will not include the first word i.e 'start'\n",
    "dec_tr_data = dec_data.reshape(len(dec_data),max_tr_len,1)[:,1:]\n",
    "\n",
    "x_vocab_size = len(in_tokenizer.word_index) + 1\n",
    "print(\"x_vocab_size = \", x_vocab_size)\n",
    "print(in_tokenizer)\n",
    "\n",
    "y_vocab_size = len(tr_tokenizer.word_index) + 1\n",
    "print(\"y_vocab_size = \", y_vocab_size)\n"
   ]
  },
  {
   "cell_type": "code",
   "execution_count": 16,
   "id": "ba6c1199",
   "metadata": {},
   "outputs": [],
   "source": [
    "embedding_dim = 100\n",
    "# num_epochs = 50"
   ]
  },
  {
   "cell_type": "code",
   "execution_count": 20,
   "id": "062edb79",
   "metadata": {},
   "outputs": [
    {
     "name": "stdout",
     "output_type": "stream",
     "text": [
      "[]\n",
      "[]\n",
      "[]\n",
      "[]\n",
      "[]\n",
      "[]\n",
      "[]\n",
      "[]\n",
      "[]\n",
      "[]\n",
      "[]\n",
      "[]\n",
      "[]\n",
      "[]\n",
      "[]\n",
      "[]\n",
      "[]\n",
      "[]\n",
      "[]\n",
      "[]\n",
      "[]\n",
      "[]\n",
      "[]\n",
      "[]\n",
      "[]\n",
      "[]\n",
      "[]\n",
      "[]\n",
      "[]\n",
      "[]\n",
      "[]\n",
      "[]\n",
      "[]\n",
      "[]\n",
      "[]\n",
      "[]\n",
      "[]\n",
      "[]\n",
      "[]\n"
     ]
    },
    {
     "name": "stderr",
     "output_type": "stream",
     "text": [
      "C:\\Users\\ben\\AppData\\Local\\Temp\\ipykernel_7860\\4108466940.py:11: DeprecationWarning: string or file could not be read to its end due to unmatched data; this will raise a ValueError in the future.\n",
      "  coefs = np.fromstring(coefs, \"f\", sep=\" \")\n"
     ]
    },
    {
     "ename": "ValueError",
     "evalue": "not enough values to unpack (expected 2, got 0)",
     "output_type": "error",
     "traceback": [
      "\u001b[1;31m---------------------------------------------------------------------------\u001b[0m",
      "\u001b[1;31mValueError\u001b[0m                                Traceback (most recent call last)",
      "Input \u001b[1;32mIn [20]\u001b[0m, in \u001b[0;36m<cell line: 37>\u001b[1;34m()\u001b[0m\n\u001b[0;32m     32\u001b[0m     \u001b[38;5;28mprint\u001b[39m(\u001b[38;5;124m\"\u001b[39m\u001b[38;5;124mConverted \u001b[39m\u001b[38;5;132;01m%d\u001b[39;00m\u001b[38;5;124m words (\u001b[39m\u001b[38;5;132;01m%d\u001b[39;00m\u001b[38;5;124m misses)\u001b[39m\u001b[38;5;124m\"\u001b[39m \u001b[38;5;241m%\u001b[39m (hits, misses))\n\u001b[0;32m     34\u001b[0m     \u001b[38;5;28;01mreturn\u001b[39;00m embedding_matrix\n\u001b[1;32m---> 37\u001b[0m x_embedding_matrix \u001b[38;5;241m=\u001b[39m \u001b[43mget_embedding_matrix\u001b[49m\u001b[43m(\u001b[49m\u001b[43min_tokenizer\u001b[49m\u001b[43m,\u001b[49m\u001b[43m \u001b[49m\u001b[43membedding_dim\u001b[49m\u001b[43m,\u001b[49m\u001b[43m \u001b[49m\u001b[43mx_vocab_size\u001b[49m\u001b[43m)\u001b[49m\n\u001b[0;32m     38\u001b[0m y_embedding_matrix \u001b[38;5;241m=\u001b[39m get_embedding_matrix(tr_tokenizer, embedding_dim, y_vocab_size)\n",
      "Input \u001b[1;32mIn [20]\u001b[0m, in \u001b[0;36mget_embedding_matrix\u001b[1;34m(tokenizer, embedding_dim, vocab_size)\u001b[0m\n\u001b[0;32m      8\u001b[0m \u001b[38;5;28;01mwith\u001b[39;00m \u001b[38;5;28mopen\u001b[39m(path_to_glove_file) \u001b[38;5;28;01mas\u001b[39;00m f:\n\u001b[0;32m      9\u001b[0m     \u001b[38;5;28;01mfor\u001b[39;00m line \u001b[38;5;129;01min\u001b[39;00m f:\n\u001b[1;32m---> 10\u001b[0m         word, coefs \u001b[38;5;241m=\u001b[39m line\u001b[38;5;241m.\u001b[39msplit(maxsplit\u001b[38;5;241m=\u001b[39m\u001b[38;5;241m1\u001b[39m)\n\u001b[0;32m     11\u001b[0m         coefs \u001b[38;5;241m=\u001b[39m np\u001b[38;5;241m.\u001b[39mfromstring(coefs, \u001b[38;5;124m\"\u001b[39m\u001b[38;5;124mf\u001b[39m\u001b[38;5;124m\"\u001b[39m, sep\u001b[38;5;241m=\u001b[39m\u001b[38;5;124m\"\u001b[39m\u001b[38;5;124m \u001b[39m\u001b[38;5;124m\"\u001b[39m)\n\u001b[0;32m     12\u001b[0m         embeddings_index[word] \u001b[38;5;241m=\u001b[39m coefs\n",
      "\u001b[1;31mValueError\u001b[0m: not enough values to unpack (expected 2, got 0)"
     ]
    }
   ],
   "source": [
    "def get_embedding_matrix(tokenizer, embedding_dim, vocab_size=None):\n",
    "    word_index = tokenizer.word_index\n",
    "    voc = list(word_index.keys())\n",
    "\n",
    "    path_to_glove_file = 'license.txt'\n",
    "\n",
    "    embeddings_index = {}\n",
    "    with open(path_to_glove_file) as f:\n",
    "        for line in f:\n",
    "            word, coefs = line.split(maxsplit=1)\n",
    "            coefs = np.fromstring(coefs, \"f\", sep=\" \")\n",
    "            embeddings_index[word] = coefs\n",
    "            print(embeddings_index[word])\n",
    "\n",
    "    print(\"Found %s word vectors.\" % len(embeddings_index))\n",
    "\n",
    "    num_tokens = len(voc) + 2 if not vocab_size else vocab_size\n",
    "    hits = 0\n",
    "    misses = 0\n",
    "\n",
    "    # Prepare embedding matrix\n",
    "    embedding_matrix = np.zeros((num_tokens, embedding_dim))\n",
    "    for word, i in word_index.items():\n",
    "        embedding_vector = embeddings_index.get(word)\n",
    "        if embedding_vector is not None:\n",
    "            # Words not found in embedding index will be all-zeros.\n",
    "            # This includes the representation for \"padding\" and \"OOV\"\n",
    "            embedding_matrix[i] = embedding_vector\n",
    "            hits += 1\n",
    "        else:\n",
    "            misses += 1\n",
    "    print(\"Converted %d words (%d misses)\" % (hits, misses))\n",
    "\n",
    "    return embedding_matrix\n",
    "\n",
    "\n",
    "x_embedding_matrix = get_embedding_matrix(in_tokenizer, embedding_dim, x_vocab_size)\n",
    "y_embedding_matrix = get_embedding_matrix(tr_tokenizer, embedding_dim, y_vocab_size)"
   ]
  },
  {
   "cell_type": "code",
   "execution_count": null,
   "id": "fd7233e3",
   "metadata": {},
   "outputs": [],
   "source": [
    "print(x_embedding_matrix.shape)\n",
    "print(y_embedding_matrix.shape)"
   ]
  },
  {
   "cell_type": "code",
   "execution_count": 10,
   "id": "7b1f833f",
   "metadata": {},
   "outputs": [],
   "source": [
    "# Return Sequences = True: When the return sequences \n",
    "# parameter is set to True, LSTM produces the hidden \n",
    "# state and cell state for every timestep\n",
    "\n",
    "# Return State = True: When return state = True, \n",
    "# LSTM produces the hidden state and cell state of \n",
    "# the last timestep only\n",
    "\n",
    "# Initial State: This is used to initialize the \n",
    "# internal states of the LSTM for the first timestep\n",
    "\n",
    "# Stacked LSTM: Stacked LSTM has multiple layers of \n",
    "# LSTM stacked on top of each other. This leads to a\n",
    "# better representation of the sequence. "
   ]
  },
  {
   "cell_type": "code",
   "execution_count": 205,
   "id": "3a0cd60a",
   "metadata": {},
   "outputs": [],
   "source": [
    "import tensorflow as tf\n",
    "\n",
    "def add_prefix(model, prefix: str, custom_objects=None):\n",
    "    '''Adds a prefix to layers and model name while keeping the pre-trained weights\n",
    "    Arguments:\n",
    "        model: a tf.keras model\n",
    "        prefix: a string that would be added to before each layer name\n",
    "        custom_objects: if your model consists of custom layers you shoud add them pass them as a dictionary. \n",
    "    Returns:\n",
    "        new_model: a tf.keras model having same weights as the input model.\n",
    "    '''\n",
    "    \n",
    "    config = model.get_config()\n",
    "    old_to_new = {}\n",
    "    new_to_old = {}\n",
    "    \n",
    "    for layer in config['layers']:\n",
    "        new_name = prefix + layer['name']\n",
    "        old_to_new[layer['name']], new_to_old[new_name] = new_name, layer['name']\n",
    "        layer['name'] = new_name\n",
    "        layer['config']['name'] = new_name\n",
    "\n",
    "        if len(layer['inbound_nodes']) > 0:\n",
    "            for in_node in layer['inbound_nodes'][0]:\n",
    "                in_node[0] = old_to_new[in_node[0]]\n",
    "    \n",
    "    for input_layer in config['input_layers']:\n",
    "        input_layer[0] = old_to_new[input_layer[0]]\n",
    "    \n",
    "    for output_layer in config['output_layers']:\n",
    "        output_layer[0] = old_to_new[output_layer[0]]\n",
    "    \n",
    "    config['name'] = prefix + config['name']\n",
    "    new_model = tf.keras.Model().from_config(config, custom_objects)\n",
    "    \n",
    "    for layer in new_model.layers:\n",
    "        layer.set_weights(model.get_layer(new_to_old[layer.name]).get_weights())\n",
    "    \n",
    "    return new_model"
   ]
  },
  {
   "cell_type": "code",
   "execution_count": 208,
   "id": "168a2b29",
   "metadata": {},
   "outputs": [
    {
     "data": {
      "text/plain": [
       "486"
      ]
     },
     "execution_count": 208,
     "metadata": {},
     "output_type": "execute_result"
    }
   ],
   "source": [
    "vocab_size_sum"
   ]
  },
  {
   "cell_type": "code",
   "execution_count": 210,
   "id": "09aa4a42",
   "metadata": {},
   "outputs": [
    {
     "name": "stdout",
     "output_type": "stream",
     "text": [
      "Model: \"v2_model\"\n",
      "__________________________________________________________________________________________________\n",
      " Layer (type)                   Output Shape         Param #     Connected to                     \n",
      "==================================================================================================\n",
      " v2_input_0 (InputLayer)        [(None, 347)]        0           []                               \n",
      "                                                                                                  \n",
      " v2_en_embedding (Embedding)    (None, 347, 100)     215100      ['v2_input_0[0][0]']             \n",
      "                                                                                                  \n",
      " v2_LSTM1 (LSTM)                [(None, 347, 500),   1202000     ['v2_en_embedding[0][0]']        \n",
      "                                 (None, 500),                                                     \n",
      "                                 (None, 500)]                                                     \n",
      "                                                                                                  \n",
      " v2_input_1 (InputLayer)        [(None, None)]       0           []                               \n",
      "                                                                                                  \n",
      " v2_LSTM2 (LSTM)                [(None, 347, 500),   2002000     ['v2_LSTM1[0][0]']               \n",
      "                                 (None, 500),                                                     \n",
      "                                 (None, 500)]                                                     \n",
      "                                                                                                  \n",
      " v2_embedding (Embedding)       (None, None, 100)    48600       ['v2_input_1[0][0]']             \n",
      "                                                                                                  \n",
      " v2_LSTM3 (LSTM)                [(None, 347, 500),   2002000     ['v2_LSTM2[0][0]']               \n",
      "                                 (None, 500),                                                     \n",
      "                                 (None, 500)]                                                     \n",
      "                                                                                                  \n",
      " v2_lstm (LSTM)                 [(None, None, 500),  1202000     ['v2_embedding[0][0]',           \n",
      "                                 (None, 500),                     'v2_LSTM3[0][1]',               \n",
      "                                 (None, 500)]                     'v2_LSTM3[0][2]']               \n",
      "                                                                                                  \n",
      " v2_attention (Attention)       (None, None, 500)    0           ['v2_lstm[0][0]',                \n",
      "                                                                  'v2_LSTM3[0][0]']               \n",
      "                                                                                                  \n",
      " v2_concat_layer1 (Concatenate)  (None, None, 1000)  0           ['v2_lstm[0][0]',                \n",
      "                                                                  'v2_attention[0][0]']           \n",
      "                                                                                                  \n",
      " v2_dense (Dense)               (None, None, 488)    488488      ['v2_concat_layer1[0][0]']       \n",
      "                                                                                                  \n",
      "==================================================================================================\n",
      "Total params: 7,160,188\n",
      "Trainable params: 7,160,188\n",
      "Non-trainable params: 0\n",
      "__________________________________________________________________________________________________\n"
     ]
    }
   ],
   "source": [
    "K.clear_session() \n",
    "latent_dim = 500\n",
    "\n",
    "# Encoder \n",
    "# Create input object of total number of encoder words\n",
    "en_inputs = Input(shape=(max_in_len,),name='input_0')\n",
    "\n",
    "# en_embedding = Embedding(num_in_words+1, latent_dim, name='en_embedding')(en_inputs) \n",
    "en_embedding = Embedding(vocab_size_text, \n",
    "                         embed_dim_text, \n",
    "                         name='en_embedding', \n",
    "                         input_length=max_txt_len_text,\n",
    "                         embeddings_initializer=tf.keras.initializers.Constant(embed_matrix_text)\n",
    "                        )(en_inputs) \n",
    "# Embedding(input_dim=vocab_size,output_dim=embed_dim,input_length=max_txt_len,embeddings_initializer=Constant(embed_matrix))\n",
    "\n",
    "# Create 3 stacked LSTM layer with the shape of hidden dimension for text summarizer using deep learning\n",
    "# LSTM 1\n",
    "en_lstm1= LSTM(latent_dim, return_state=True, return_sequences=True,name='LSTM1') \n",
    "en_outputs1, state_h1, state_c1= en_lstm1(en_embedding) \n",
    " \n",
    "# LSTM2\n",
    "en_lstm2= LSTM(latent_dim, return_state=True, return_sequences=True,name='LSTM2') \n",
    "en_outputs2, state_h2, state_c2= en_lstm2(en_outputs1) \n",
    " \n",
    "# LSTM3\n",
    "en_lstm3= LSTM(latent_dim,return_sequences=True,return_state=True,name='LSTM3')\n",
    "en_outputs3 , state_h3 , state_c3= en_lstm3(en_outputs2)\n",
    " \n",
    "# Encoder states\n",
    "en_states= [state_h3, state_c3]\n",
    "\n",
    "# Decoder. \n",
    "dec_inputs = Input(shape=(None,)) \n",
    "dec_emb_layer = Embedding(vocab_size_sum, \n",
    "                          embed_dim_sum,\n",
    "                          input_length=max_txt_len_sum,\n",
    "                          embeddings_initializer=tf.keras.initializers.Constant(embed_matrix_sum)\n",
    "                         ) \n",
    "dec_embedding = dec_emb_layer(dec_inputs) \n",
    " \n",
    "# Initialize decoder's LSTM layer with the output states of encoder\n",
    "dec_lstm = LSTM(latent_dim, return_sequences=True, return_state=True)\n",
    "dec_outputs, *_ = dec_lstm(dec_embedding,initial_state=en_states) \n",
    "\n",
    "# Attention layer\n",
    "attention =Attention()\n",
    "attn_out = attention([dec_outputs,en_outputs3])\n",
    " \n",
    "# Concatenate the attention output with the decoder outputs\n",
    "merge=Concatenate(axis=-1, name='concat_layer1')([dec_outputs,attn_out])\n",
    "\n",
    "# Dense layer (output layer)\n",
    "dec_dense = Dense(num_tr_words+1, activation='softmax')\n",
    "dec_outputs = dec_dense(merge) \n",
    "\n",
    "# Model class and model summary for text Summarizer\n",
    "new_model = Model([en_inputs, dec_inputs], dec_outputs) \n",
    "model = add_prefix(new_model, 'v2_')\n",
    "model.summary()"
   ]
  },
  {
   "cell_type": "code",
   "execution_count": 211,
   "id": "1b48b769",
   "metadata": {},
   "outputs": [],
   "source": [
    "optimizer = tf.keras.optimizers.RMSprop(learning_rate=0.001)\n",
    "# optimizer=\"rmsprop\", loss=\"sparse_categorical_crossentropy\", metrics=[\"accuracy\"] \n",
    "\n",
    "model.compile( \n",
    "    optimizer=optimizer, \n",
    "    loss=\"sparse_categorical_crossentropy\",\n",
    "    metrics=[\"accuracy\"] \n",
    ") "
   ]
  },
  {
   "cell_type": "code",
   "execution_count": 73,
   "id": "b60b7458",
   "metadata": {},
   "outputs": [],
   "source": [
    "from tensorflow.keras.callbacks import EarlyStopping\n",
    "es = EarlyStopping(monitor='val_loss', mode='min', verbose=1)"
   ]
  },
  {
   "cell_type": "code",
   "execution_count": null,
   "id": "95521216",
   "metadata": {},
   "outputs": [
    {
     "name": "stdout",
     "output_type": "stream",
     "text": [
      "Epoch 1/15\n",
      "5/5 [==============================] - 124s 23s/step - loss: 4.7431 - accuracy: 0.6534 - val_loss: 1.0644 - val_accuracy: 0.8320\n",
      "Epoch 2/15\n",
      "5/5 [==============================] - 112s 22s/step - loss: 0.8771 - accuracy: 0.8439 - val_loss: 0.9263 - val_accuracy: 0.8320\n",
      "Epoch 3/15\n",
      "5/5 [==============================] - 118s 24s/step - loss: 0.8024 - accuracy: 0.8494 - val_loss: 0.9344 - val_accuracy: 0.8399\n",
      "Epoch 4/15\n",
      "5/5 [==============================] - 117s 23s/step - loss: 0.7959 - accuracy: 0.8505 - val_loss: 0.9135 - val_accuracy: 0.8340\n",
      "Epoch 5/15\n",
      "5/5 [==============================] - 123s 25s/step - loss: 0.7808 - accuracy: 0.8515 - val_loss: 0.9526 - val_accuracy: 0.8419\n",
      "Epoch 6/15\n",
      "5/5 [==============================] - 120s 24s/step - loss: 0.7807 - accuracy: 0.8503 - val_loss: 0.9239 - val_accuracy: 0.8333\n",
      "Epoch 7/15\n",
      "5/5 [==============================] - 123s 25s/step - loss: 0.7711 - accuracy: 0.8553 - val_loss: 0.8937 - val_accuracy: 0.8472\n",
      "Epoch 8/15\n",
      "5/5 [==============================] - 123s 25s/step - loss: 0.7404 - accuracy: 0.8614 - val_loss: 0.9852 - val_accuracy: 0.8439\n",
      "Epoch 9/15\n",
      "5/5 [==============================] - 123s 25s/step - loss: 0.7483 - accuracy: 0.8607 - val_loss: 0.8698 - val_accuracy: 0.8511\n",
      "Epoch 10/15\n",
      "5/5 [==============================] - 125s 24s/step - loss: 0.7010 - accuracy: 0.8662 - val_loss: 0.8531 - val_accuracy: 0.8505\n",
      "Epoch 11/15\n",
      "5/5 [==============================] - 138s 27s/step - loss: 0.6981 - accuracy: 0.8685 - val_loss: 0.8449 - val_accuracy: 0.8610\n",
      "Epoch 12/15\n",
      "1/5 [=====>........................] - ETA: 1:36 - loss: 0.6435 - accuracy: 0.8849"
     ]
    }
   ],
   "source": [
    "history=model.fit( \n",
    "    [en_in_data, dec_in_data],\n",
    "    dec_tr_data, \n",
    "    batch_size=64, \n",
    "    epochs=15, \n",
    "    validation_split=0.1,\n",
    "    )"
   ]
  },
  {
   "cell_type": "code",
   "execution_count": 142,
   "id": "b0d27ea3",
   "metadata": {},
   "outputs": [
    {
     "name": "stderr",
     "output_type": "stream",
     "text": [
      "WARNING:absl:Found untraced functions such as lstm_cell_4_layer_call_fn, lstm_cell_4_layer_call_and_return_conditional_losses, lstm_cell_5_layer_call_fn, lstm_cell_5_layer_call_and_return_conditional_losses, lstm_cell_6_layer_call_fn while saving (showing 5 of 8). These functions will not be directly callable after loading.\n"
     ]
    },
    {
     "name": "stdout",
     "output_type": "stream",
     "text": [
      "INFO:tensorflow:Assets written to: s2s\\assets\n"
     ]
    },
    {
     "name": "stderr",
     "output_type": "stream",
     "text": [
      "INFO:tensorflow:Assets written to: s2s\\assets\n"
     ]
    }
   ],
   "source": [
    "#Save model\n",
    "model.save(\"s2s\")"
   ]
  },
  {
   "cell_type": "code",
   "execution_count": 141,
   "id": "56779e98",
   "metadata": {},
   "outputs": [
    {
     "data": {
      "image/png": "[encoded data removed]",
      "text/plain": [
       "<Figure size 432x288 with 1 Axes>"
      ]
     },
     "metadata": {
      "needs_background": "light"
     },
     "output_type": "display_data"
    }
   ],
   "source": [
    "from matplotlib import pyplot \n",
    "\n",
    "pyplot.plot(history.history['accuracy'], label='train') \n",
    "pyplot.plot(history.history['val_accuracy'], label='test')\n",
    "\n",
    "pyplot.xlabel('Epoch')\n",
    "pyplot.ylabel('Accuracy')\n",
    "pyplot.legend(loc='lower right')\n",
    "# pyplot.legend() \n",
    "\n",
    "pyplot.show()"
   ]
  },
  {
   "cell_type": "code",
   "execution_count": 143,
   "id": "053416be",
   "metadata": {},
   "outputs": [
    {
     "data": {
      "image/png": "[encoded data removed]",
      "text/plain": [
       "<Figure size 432x288 with 1 Axes>"
      ]
     },
     "metadata": {
      "needs_background": "light"
     },
     "output_type": "display_data"
    }
   ],
   "source": [
    "from matplotlib import pyplot \n",
    "\n",
    "pyplot.plot(history.history['loss'], label='train') \n",
    "pyplot.plot(history.history['val_loss'], label='test') \n",
    "\n",
    "pyplot.xlabel('Epoch')\n",
    "pyplot.ylabel('Loss')\n",
    "pyplot.legend(loc='lower right')\n",
    "# pyplot.legend() \n",
    "\n",
    "pyplot.show()"
   ]
  },
  {
   "cell_type": "code",
   "execution_count": 144,
   "id": "d54cc02d",
   "metadata": {},
   "outputs": [],
   "source": [
    "# Encoder inference\n",
    "latent_dim=500#load the model\n",
    "model = models.load_model(\"s2s\")\n",
    " \n",
    "# Construct encoder model from the output of 6 layer i.e.last LSTM layer\n",
    "en_outputs,state_h_enc,state_c_enc = model.layers[6].output\n",
    "en_states=[state_h_enc,state_c_enc]\n",
    "# Add input and state from the layer.\n",
    "en_model = Model(model.input[0],[en_outputs]+en_states)\n",
    "\n",
    "# Decoder inference\n",
    "# Create Input object for hidden and cell state for decoder\n",
    "# Shape of layer with hidden or latent dimension\n",
    "dec_state_input_h = Input(shape=(latent_dim,))\n",
    "dec_state_input_c = Input(shape=(latent_dim,))\n",
    "dec_hidden_state_input = Input(shape=(max_in_len,latent_dim))\n",
    " \n",
    "# Get the embeddings and input layer from the model\n",
    "dec_inputs = model.input[1]\n",
    "dec_emb_layer = model.layers[5]\n",
    "dec_lstm = model.layers[7]\n",
    "dec_embedding= dec_emb_layer(dec_inputs)\n",
    " \n",
    "# Add input and initialize LSTM layer with encoder LSTM states.\n",
    "dec_outputs2, state_h2, state_c2 = dec_lstm(dec_embedding, initial_state=[dec_state_input_h,dec_state_input_c])\n",
    "\n",
    "# Attention layer\n",
    "attention = model.layers[8]\n",
    "attn_out2 = attention([dec_outputs2,dec_hidden_state_input])\n",
    " \n",
    "merge2 = Concatenate(axis=-1)([dec_outputs2, attn_out2])\n",
    "\n",
    "# Dense layer\n",
    "dec_dense = model.layers[10]\n",
    "dec_outputs2 = dec_dense(merge2)\n",
    " \n",
    "# Finally define the Model Class\n",
    "dec_model = Model(\n",
    "[dec_inputs] + [dec_hidden_state_input,dec_state_input_h,dec_state_input_c],\n",
    "[dec_outputs2] + [state_h2, state_c2])"
   ]
  },
  {
   "cell_type": "code",
   "execution_count": 20,
   "id": "c83e9235",
   "metadata": {},
   "outputs": [],
   "source": [
    "# import pickle\n",
    "# pickle.dump(en_model, open('./en_model.pkl', 'wb'))"
   ]
  },
  {
   "cell_type": "code",
   "execution_count": 146,
   "id": "b569558b",
   "metadata": {},
   "outputs": [],
   "source": [
    "# Create a dictionary with a key as index and value as words.\n",
    "reverse_target_word_index = tr_tokenizer.index_word\n",
    "reverse_source_word_index = in_tokenizer.index_word\n",
    "target_word_index = tr_tokenizer.word_index\n",
    "reverse_target_word_index[0]=' '"
   ]
  },
  {
   "cell_type": "code",
   "execution_count": 147,
   "id": "831ffece",
   "metadata": {},
   "outputs": [],
   "source": [
    "def decode_sequence_naive(input_seq):\n",
    "    # Encode the input as state vectors.\n",
    "    # Get the encoder output and states by passing the input sequence\n",
    "    en_out, en_h, en_c= en_model.predict(input_seq)\n",
    " \n",
    "    # Generate empty target sequence of length 1.\n",
    "    target_seq = np.zeros((1, 1))\n",
    "    \n",
    "    # Target sequence with initial word as 'start'\n",
    "    target_seq[0, 0] = target_word_index['start']\n",
    " \n",
    "    # If the iteration reaches the end of text than it will be stop the iteration\n",
    "    stop_condition = False\n",
    "    \n",
    "    # Append every predicted word in decoded sentence\n",
    "    decoded_sentence = \"\"\n",
    "    while not stop_condition: \n",
    "        # Get predicted output, hidden and cell state.\n",
    "        output_words, dec_h, dec_c= dec_model.predict([target_seq] + [en_out,en_h, en_c])\n",
    "        \n",
    "        # Get the index and from the dictionary get the word for that index.\n",
    "        word_index = np.argmax(output_words[0, -1, :])\n",
    "        text_word = reverse_target_word_index[word_index]\n",
    "        print(\"text_word\", text_word)\n",
    "        decoded_sentence += text_word +\" \"\n",
    "        \n",
    "        # Exit condition: either hit max length or find a stop word or last word.\n",
    "        if text_word == \"end\" or len(decoded_sentence) > max_tr_len:\n",
    "            stop_condition = True\n",
    "            \n",
    "        # Update target sequence to the current word index.\n",
    "        target_seq = np.zeros((1, 1))\n",
    "        target_seq[0, 0] = word_index\n",
    "        en_h, en_c = dec_h, dec_c\n",
    "    # Return the decoded sentence\n",
    "    return decoded_sentence"
   ]
  },
  {
   "cell_type": "code",
   "execution_count": 148,
   "id": "bcca5ed3",
   "metadata": {},
   "outputs": [],
   "source": [
    "def beam_step(model, beam_size, target_seq, en_out, en_h, en_c):\n",
    "        \n",
    "    output_words, dec_h, dec_c = model.predict([target_seq] + [en_out, en_h, en_c])\n",
    "    # Get indexes of all the top probabilities\n",
    "    word_indexes = np.argpartition(output_words[0, -1, :], -beam_size)[-beam_size:]\n",
    "\n",
    "    return word_indexes[:beam_size], np.log(output_words[0, -1, word_indexes]), dec_h, dec_c\n",
    "\n",
    "def decode_sequence_beamsearch(input_seq):\n",
    "    # Encode the input as state vectors.\n",
    "    # Get the encoder output and states by passing the input sequence\n",
    "    en_out, en_h, en_c = en_model.predict(input_seq)\n",
    "    \n",
    "    # Generate empty target sequence of length 1.\n",
    "    target_seq = np.zeros((1, 1))\n",
    "    \n",
    "    # Target sequence with initial word as 'start'\n",
    "    target_seq[0, 0] = target_word_index['start']\n",
    "   \n",
    "    past_targets = [target_seq]\n",
    "    past_hs = [en_h]\n",
    "    past_cs = [en_c]\n",
    " \n",
    "    # If the iteration reaches the end of text than it will be stop the iteration\n",
    "    stop_condition = False\n",
    "    \n",
    "    beam_indices = []\n",
    "    beam_probs = []\n",
    "    beam_words = []\n",
    "    \n",
    "    BSIZE = 8\n",
    "    cpt = True\n",
    "    \n",
    "    while not stop_condition: \n",
    "        idxes_beam = []\n",
    "        pbs_beam = []\n",
    "        for past_target, past_h, past_c in zip(past_targets, past_hs, past_cs):\n",
    "            # for each couple of (past_targets, past_hs, past_cs) predict the best word along with BSIZE (3) words after it (we are keeping indexes)\n",
    "            if (cpt):\n",
    "                NEWBSIZE = BSIZE\n",
    "                idxes, pbs, h, c = beam_step(dec_model, NEWBSIZE, past_target, en_out, past_hs, past_cs)\n",
    "                cpt = False\n",
    "            else:\n",
    "                NEWBSIZE = BSIZE*BSIZE\n",
    "                idxes, pbs, h, c = beam_step(dec_model, NEWBSIZE, past_target, en_out, past_hs, past_cs)\n",
    "            # add the indexes of those words to the end of idxes_beam\n",
    "            idxes_beam.extend(idxes)\n",
    "            # add the proba of those words to the list of probs \n",
    "            pbs_beam.extend(pbs)\n",
    "            # The append() method adds a single element to the end of a list, and the extend() method adds multiple items.\n",
    "          \n",
    "        \n",
    "        # choose the max proba among the maxes\n",
    "        word_indexes = np.argpartition(pbs_beam, -BSIZE)[-BSIZE:]\n",
    "        # np.divmod(x, y) is equivalent to (x // y, x % y)  \n",
    "        idx_div, idx_mod = np.divmod(word_indexes, BSIZE)\n",
    "        beam_indices.append(idx_div)\n",
    "        beam_words.append(np.array(idxes_beam)[word_indexes])\n",
    "        if len(beam_probs) == 0:\n",
    "            beam_probs.append(np.array(pbs_beam)[word_indexes])\n",
    "\n",
    "        else:\n",
    "            beam_probs.append(np.array(pbs_beam)[word_indexes] + beam_probs[-1][idx_div]) \n",
    "\n",
    "        word_index = beam_words[-1][np.argmax(beam_probs[-1])]\n",
    "        text_word = reverse_target_word_index[word_index]\n",
    "        \n",
    "        # Exit condition: either hit max length or find a stop word or last word.\n",
    "        if text_word == \"end\" or len(beam_words) == max_tr_len:\n",
    "            print (\"Exit condition\")\n",
    "            stop_condition = True\n",
    "            \n",
    "        # Update target sequence to the current word index.\n",
    "        past_targets = []\n",
    "        past_hs = h\n",
    "        past_cs = c\n",
    "\n",
    "        for i in range(BSIZE):\n",
    "            target_seq = np.zeros((1, 1))\n",
    "            target_seq[0, 0] = beam_words[-1][i]\n",
    "            past_targets.append(target_seq)\n",
    "            \n",
    "    \n",
    "    words = []\n",
    "    \n",
    "    i = len(beam_probs) - 1\n",
    "    j = np.argmax(beam_probs[i])\n",
    "    \n",
    "    while i > -1:\n",
    "        word_index = beam_words[i][j]\n",
    "        text_word = reverse_target_word_index[word_index]\n",
    "        words.insert(0, text_word)\n",
    "        j = beam_indices[i][j]\n",
    "        i -= 1\n",
    "        \n",
    "    # Return the decoded sentence\n",
    "    return \" \".join(words)"
   ]
  },
  {
   "cell_type": "code",
   "execution_count": 150,
   "id": "2ff3a61e",
   "metadata": {},
   "outputs": [
    {
     "name": "stdout",
     "output_type": "stream",
     "text": [
      "text : we may collect your personal data when you register for or use our services such as when you create an account make a payment or make a purchase on a merchants website\n",
      "1/1 [==============================] - 1s 824ms/step\n",
      "1/1 [==============================] - 0s 24ms/step\n",
      "1/1 [==============================] - 0s 23ms/step\n",
      "1/1 [==============================] - 0s 27ms/step\n",
      "1/1 [==============================] - 0s 20ms/step\n",
      "Exit condition\n",
      "\n",
      "Predicted summary: sharing personal   \n",
      "\n",
      "\n"
     ]
    }
   ],
   "source": [
    "# inpt_txt = \"whatsapp must receive or collect some information to operate provide improve understand customize support and market our services including when you install access or use our services the types of information we receive and collect depend on how you use our services we require certain information to deliver our services and without this we will not be able to provide our services to you for example you must provide your mobile phone number to create an account to use our service\"\n",
    "inpt_txt = \"we may collect your personal data when you register for or use our services such as when you create an account make a payment or make a purchase on a merchants website\"\n",
    "# inpt_txt = \"collecting commercial information for example online shopping cart information purchase history\"\n",
    "print(\"text :\",inpt_txt)\n",
    "inpt_txt = clean(inpt_txt)\n",
    "# inpt_txt = ' '.join(inpt_txt)\n",
    "inp_x= in_tokenizer.texts_to_sequences([inpt_txt]) \n",
    "inp_x= pad_sequences(inp_x,  maxlen=max_in_len, padding='post')\n",
    " \n",
    "summary=decode_sequence_beamsearch(inp_x.reshape(1,max_in_len))\n",
    "if 'end' in summary :\n",
    "    summary=summary.replace('end','')\n",
    "print(\"\\nPredicted summary:\",summary);print(\"\\n\")"
   ]
  },
  {
   "cell_type": "code",
   "execution_count": 62,
   "id": "f9389afe",
   "metadata": {},
   "outputs": [],
   "source": [
    "from keras.models import model_from_json\n",
    "model_json = model.to_json()\n",
    "with open(\"model.json\", \"w\") as json_file:\n",
    "    json_file.write(model_json)\n",
    "# serialize weights to HDF5\n",
    "model.save_weights(\"model.h5\")\n",
    "#After executing this we will be having two file in same directory model.json & model.h5\n"
   ]
  },
  {
   "cell_type": "code",
   "execution_count": 63,
   "id": "46e9531d",
   "metadata": {},
   "outputs": [],
   "source": [
    "import pickle\n",
    "# pickle.dump(model, open('./txt_generator.pkl', 'wb'))\n",
    "pickle.dump(in_tokenizer, open('./in_tokenizer.pkl', 'wb'))\n",
    "pickle.dump(tr_tokenizer, open('./tr_tokenizer.pkl', 'wb'))\n",
    "# pickle.dump(en_in_data, open('./pad_sequences.pkl', 'wb'))"
   ]
  },
  {
   "cell_type": "code",
   "execution_count": 64,
   "id": "100829c9",
   "metadata": {},
   "outputs": [
    {
     "data": {
      "text/plain": [
       "<keras.preprocessing.text.Tokenizer at 0x1598e82ccd0>"
      ]
     },
     "execution_count": 64,
     "metadata": {},
     "output_type": "execute_result"
    }
   ],
   "source": [
    "in_tokenizer = pickle.load(open('in_tokenizer.pkl', 'rb'))\n",
    "in_tokenizer"
   ]
  },
  {
   "cell_type": "code",
   "execution_count": 65,
   "id": "ec550484",
   "metadata": {},
   "outputs": [
    {
     "data": {
      "text/plain": [
       "<keras.preprocessing.text.Tokenizer at 0x159bc992bb0>"
      ]
     },
     "execution_count": 65,
     "metadata": {},
     "output_type": "execute_result"
    }
   ],
   "source": [
    "tr_tokenizer = pickle.load(open('tr_tokenizer.pkl', 'rb'))\n",
    "tr_tokenizer"
   ]
  }
 ],
 "metadata": {
  "kernelspec": {
   "display_name": "venv",
   "language": "python",
   "name": "venv"
  },
  "language_info": {
   "codemirror_mode": {
    "name": "ipython",
    "version": 3
   },
   "file_extension": ".py",
   "mimetype": "text/x-python",
   "name": "python",
   "nbconvert_exporter": "python",
   "pygments_lexer": "ipython3",
   "version": "3.9.5"
  }
 },
 "nbformat": 4,
 "nbformat_minor": 5
}
