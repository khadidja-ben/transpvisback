{
 "cells": [
  {
   "cell_type": "code",
   "execution_count": 1,
   "id": "171d3499",
   "metadata": {
    "scrolled": true
   },
   "outputs": [],
   "source": [
    "import numpy as np\n",
    "import pandas as pd\n",
    "import pickle\n",
    "from statistics import mode\n",
    "import nltk\n",
    "from nltk import word_tokenize\n",
    "from nltk.stem import LancasterStemmer\n",
    "from nltk.corpus import stopwords\n",
    "from tensorflow.keras.models import Model\n",
    "from tensorflow.keras import models\n",
    "from tensorflow.keras import backend as K\n",
    "from tensorflow.keras.preprocessing.sequence import pad_sequences\n",
    "from tensorflow.keras.preprocessing.text import Tokenizer \n",
    "from tensorflow.keras.utils import plot_model\n",
    "from tensorflow.keras.layers import Input,LSTM,Embedding,Dense,Concatenate,Attention\n",
    "from sklearn.model_selection import train_test_split\n",
    "from bs4 import BeautifulSoup\n",
    "from sklearn.feature_extraction.text import CountVectorizer"
   ]
  },
  {
   "cell_type": "code",
   "execution_count": 2,
   "id": "fe1dab44",
   "metadata": {},
   "outputs": [
    {
     "data": {
      "text/html": [
       "<div>\n",
       "<style scoped>\n",
       "    .dataframe tbody tr th:only-of-type {\n",
       "        vertical-align: middle;\n",
       "    }\n",
       "\n",
       "    .dataframe tbody tr th {\n",
       "        vertical-align: top;\n",
       "    }\n",
       "\n",
       "    .dataframe thead th {\n",
       "        text-align: right;\n",
       "    }\n",
       "</style>\n",
       "<table border=\"1\" class=\"dataframe\">\n",
       "  <thead>\n",
       "    <tr style=\"text-align: right;\">\n",
       "      <th></th>\n",
       "      <th>Text</th>\n",
       "      <th>Summary</th>\n",
       "    </tr>\n",
       "  </thead>\n",
       "  <tbody>\n",
       "    <tr>\n",
       "      <th>0</th>\n",
       "      <td>whatsapp must receive or collect some informat...</td>\n",
       "      <td>the purpose of collecting data</td>\n",
       "    </tr>\n",
       "    <tr>\n",
       "      <th>1</th>\n",
       "      <td>our services have optional features which if u...</td>\n",
       "      <td>the purpose of collecting additional data</td>\n",
       "    </tr>\n",
       "    <tr>\n",
       "      <th>2</th>\n",
       "      <td>your account information you must provide your...</td>\n",
       "      <td>why collecting the account information</td>\n",
       "    </tr>\n",
       "    <tr>\n",
       "      <th>3</th>\n",
       "      <td>your messages we do not retain your messages i...</td>\n",
       "      <td>where delivered messages are stored</td>\n",
       "    </tr>\n",
       "    <tr>\n",
       "      <th>4</th>\n",
       "      <td>undelivered messages if a message cannot be de...</td>\n",
       "      <td>how to deal with undelivered messages</td>\n",
       "    </tr>\n",
       "    <tr>\n",
       "      <th>...</th>\n",
       "      <td>...</td>\n",
       "      <td>...</td>\n",
       "    </tr>\n",
       "    <tr>\n",
       "      <th>274</th>\n",
       "      <td>object to or limit or restrict use of data you...</td>\n",
       "      <td>reasons for restricting usage of data</td>\n",
       "    </tr>\n",
       "    <tr>\n",
       "      <th>275</th>\n",
       "      <td>access and or take your data you can ask us fo...</td>\n",
       "      <td>requesting personal data</td>\n",
       "    </tr>\n",
       "    <tr>\n",
       "      <th>276</th>\n",
       "      <td>account closure you may cancel your account an...</td>\n",
       "      <td>the process of canceling accounts</td>\n",
       "    </tr>\n",
       "    <tr>\n",
       "      <th>277</th>\n",
       "      <td>general security in order to protect both the ...</td>\n",
       "      <td>how to protect the security of users</td>\n",
       "    </tr>\n",
       "    <tr>\n",
       "      <th>278</th>\n",
       "      <td>how long we keep your information we will only...</td>\n",
       "      <td>how long does prezi keep the personal informa...</td>\n",
       "    </tr>\n",
       "  </tbody>\n",
       "</table>\n",
       "<p>278 rows × 2 columns</p>\n",
       "</div>"
      ],
      "text/plain": [
       "                                                  Text  \\\n",
       "0    whatsapp must receive or collect some informat...   \n",
       "1    our services have optional features which if u...   \n",
       "2    your account information you must provide your...   \n",
       "3    your messages we do not retain your messages i...   \n",
       "4    undelivered messages if a message cannot be de...   \n",
       "..                                                 ...   \n",
       "274  object to or limit or restrict use of data you...   \n",
       "275  access and or take your data you can ask us fo...   \n",
       "276  account closure you may cancel your account an...   \n",
       "277  general security in order to protect both the ...   \n",
       "278  how long we keep your information we will only...   \n",
       "\n",
       "                                               Summary  \n",
       "0                       the purpose of collecting data  \n",
       "1            the purpose of collecting additional data  \n",
       "2               why collecting the account information  \n",
       "3                  where delivered messages are stored  \n",
       "4                how to deal with undelivered messages  \n",
       "..                                                 ...  \n",
       "274              reasons for restricting usage of data  \n",
       "275                           requesting personal data  \n",
       "276                  the process of canceling accounts  \n",
       "277               how to protect the security of users  \n",
       "278   how long does prezi keep the personal informa...  \n",
       "\n",
       "[278 rows x 2 columns]"
      ]
     },
     "execution_count": 2,
     "metadata": {},
     "output_type": "execute_result"
    }
   ],
   "source": [
    "# Read the dataset file for text Summarizer\n",
    "df=pd.read_csv(\"text-generator.csv\")\n",
    "# Drop the duplicate and na values from the records\n",
    "df.drop_duplicates(subset=['Text'],inplace=True)\n",
    "df.dropna(axis=0,inplace=True)\n",
    "input_data = df.loc[:,'Text']\n",
    "target_data = df.loc[:,'Summary']\n",
    "df.head()\n",
    "df"
   ]
  },
  {
   "cell_type": "code",
   "execution_count": 3,
   "id": "737807a9",
   "metadata": {},
   "outputs": [],
   "source": [
    "input_texts=[]\n",
    "target_texts=[]\n",
    "input_words=[]\n",
    "target_words=[]\n",
    "contractions=pickle.load(open(\"contractions.pkl\",\"rb\"))['contractions']\n",
    "stop_words=set(stopwords.words('english'))"
   ]
  },
  {
   "cell_type": "code",
   "execution_count": 4,
   "id": "20b88866",
   "metadata": {},
   "outputs": [],
   "source": [
    "def clean(texts):\n",
    "    # Tokenize the text into words \n",
    "    words=word_tokenize(texts.lower())\n",
    "    # Contraction file to expand shortened words\n",
    "#     words= [contractions[w] if w in contractions else w for w in words ]\n",
    "#     words= [w for w in words if w not in stop_words]\n",
    "    return words"
   ]
  },
  {
   "cell_type": "code",
   "execution_count": 5,
   "id": "15f77dd7",
   "metadata": {},
   "outputs": [],
   "source": [
    "# Pass the input records and taret records\n",
    "for in_txt,tr_txt in zip(input_data,target_data):\n",
    "    in_words= in_txt\n",
    "    input_texts+= [' '.join(in_words)]\n",
    "    input_words+= in_words\n",
    "    # Add 'start' at start and 'end' at end of text\n",
    "    tr_words= clean(\"start \"+tr_txt+\" end\")\n",
    "    target_texts+= [' '.join(tr_words)]\n",
    "    target_words+= tr_words"
   ]
  },
  {
   "cell_type": "code",
   "execution_count": 6,
   "id": "a7488ac3",
   "metadata": {},
   "outputs": [
    {
     "name": "stdout",
     "output_type": "stream",
     "text": [
      "number of input words :  38\n",
      "number of target words :  398\n",
      "maximum input length :  707\n",
      "maximum target length :  47\n"
     ]
    }
   ],
   "source": [
    "# Store only unique words from input and target list of words\n",
    "input_words = sorted(list(set(input_words)))\n",
    "target_words = sorted(list(set(target_words)))\n",
    "num_in_words = len(input_words) #total number of input words\n",
    "num_tr_words = len(target_words) #total number of target words\n",
    " \n",
    "# Get the length of the input and target texts which appears most often  \n",
    "max_in_len = mode([len(i) for i in input_texts])\n",
    "max_tr_len = mode([len(i) for i in target_texts])\n",
    " \n",
    "print(\"number of input words : \",num_in_words)\n",
    "print(\"number of target words : \",num_tr_words)\n",
    "print(\"maximum input length : \",max_in_len)\n",
    "print(\"maximum target length : \",max_tr_len)\n",
    "# print(\"maximum target length : \",100)"
   ]
  },
  {
   "cell_type": "code",
   "execution_count": 7,
   "id": "0ffba3a4",
   "metadata": {
    "scrolled": true
   },
   "outputs": [
    {
     "data": {
      "image/png": "[encoded data removed]",
      "text/plain": [
       "<Figure size 432x288 with 2 Axes>"
      ]
     },
     "metadata": {
      "needs_background": "light"
     },
     "output_type": "display_data"
    }
   ],
   "source": [
    "import matplotlib.pyplot as plt\n",
    "text_word_count = []\n",
    "summary_word_count = []\n",
    "\n",
    "# populate the lists with sentence lengths\n",
    "for i in input_texts:\n",
    "      text_word_count.append(len(i.split()))\n",
    "\n",
    "for i in target_texts:\n",
    "      summary_word_count.append(len(i.split()))\n",
    "\n",
    "# print(\"text_word_count\",text_word_count)\n",
    "# print(\"summary_word_count\",summary_word_count)\n",
    "length_df = pd.DataFrame({'text':text_word_count, 'summary':summary_word_count})\n",
    "length_df.hist(bins = 30)\n",
    "plt.show()"
   ]
  },
  {
   "cell_type": "code",
   "execution_count": 7,
   "id": "0b33d73e",
   "metadata": {},
   "outputs": [],
   "source": [
    "# Split the input and target text into 80:20 ratio or testing size of 20%.\n",
    "x_train,x_test,y_train,y_test=train_test_split(input_texts,target_texts,test_size=0.1,random_state=40)\n",
    "\n",
    "# Train the tokenizer with all the words\n",
    "  # prepare a tokenizer for texts on training data\n",
    "in_tokenizer = Tokenizer()\n",
    "in_tokenizer.fit_on_texts(x_train)\n",
    "  # preparing a tokenizer for summary on training data \n",
    "tr_tokenizer = Tokenizer()\n",
    "tr_tokenizer.fit_on_texts(y_train)\n",
    " \n",
    "# Convert text into sequence of integers where the integer will be the index of that word\n",
    "x_train= in_tokenizer.texts_to_sequences(x_train) \n",
    "y_train= tr_tokenizer.texts_to_sequences(y_train)\n",
    "\n",
    "# Pad array of 0's if the length is less than the maximum length \n",
    "en_in_data= pad_sequences(x_train,  maxlen=max_in_len, padding='post') \n",
    "dec_data= pad_sequences(y_train,  maxlen=max_tr_len, padding='post')\n",
    " \n",
    "# Decoder input data will not include the last word \n",
    "# i.e. 'end' in decoder input data\n",
    "dec_in_data = dec_data[:,:-1]\n",
    "\n",
    "# Decoder target data will be one time step ahead as it will not include the first word i.e 'start'\n",
    "dec_tr_data = dec_data.reshape(len(dec_data),max_tr_len,1)[:,1:]"
   ]
  },
  {
   "cell_type": "code",
   "execution_count": 10,
   "id": "7b1f833f",
   "metadata": {},
   "outputs": [],
   "source": [
    "# Return Sequences = True: When the return sequences \n",
    "# parameter is set to True, LSTM produces the hidden \n",
    "# state and cell state for every timestep\n",
    "\n",
    "# Return State = True: When return state = True, \n",
    "# LSTM produces the hidden state and cell state of \n",
    "# the last timestep only\n",
    "\n",
    "# Initial State: This is used to initialize the \n",
    "# internal states of the LSTM for the first timestep\n",
    "\n",
    "# Stacked LSTM: Stacked LSTM has multiple layers of \n",
    "# LSTM stacked on top of each other. This leads to a\n",
    "# better representation of the sequence. "
   ]
  },
  {
   "cell_type": "code",
   "execution_count": 8,
   "id": "3a0cd60a",
   "metadata": {},
   "outputs": [],
   "source": [
    "import tensorflow as tf\n",
    "\n",
    "def add_prefix(model, prefix: str, custom_objects=None):\n",
    "    '''Adds a prefix to layers and model name while keeping the pre-trained weights\n",
    "    Arguments:\n",
    "        model: a tf.keras model\n",
    "        prefix: a string that would be added to before each layer name\n",
    "        custom_objects: if your model consists of custom layers you shoud add them pass them as a dictionary. \n",
    "    Returns:\n",
    "        new_model: a tf.keras model having same weights as the input model.\n",
    "    '''\n",
    "    \n",
    "    config = model.get_config()\n",
    "    old_to_new = {}\n",
    "    new_to_old = {}\n",
    "    \n",
    "    for layer in config['layers']:\n",
    "        new_name = prefix + layer['name']\n",
    "        old_to_new[layer['name']], new_to_old[new_name] = new_name, layer['name']\n",
    "        layer['name'] = new_name\n",
    "        layer['config']['name'] = new_name\n",
    "\n",
    "        if len(layer['inbound_nodes']) > 0:\n",
    "            for in_node in layer['inbound_nodes'][0]:\n",
    "                in_node[0] = old_to_new[in_node[0]]\n",
    "    \n",
    "    for input_layer in config['input_layers']:\n",
    "        input_layer[0] = old_to_new[input_layer[0]]\n",
    "    \n",
    "    for output_layer in config['output_layers']:\n",
    "        output_layer[0] = old_to_new[output_layer[0]]\n",
    "    \n",
    "    config['name'] = prefix + config['name']\n",
    "    new_model = tf.keras.Model().from_config(config, custom_objects)\n",
    "    \n",
    "    for layer in new_model.layers:\n",
    "        layer.set_weights(model.get_layer(new_to_old[layer.name]).get_weights())\n",
    "    \n",
    "    return new_model"
   ]
  },
  {
   "cell_type": "code",
   "execution_count": 9,
   "id": "09aa4a42",
   "metadata": {},
   "outputs": [
    {
     "name": "stdout",
     "output_type": "stream",
     "text": [
      "Model: \"v2_model\"\n",
      "__________________________________________________________________________________________________\n",
      " Layer (type)                   Output Shape         Param #     Connected to                     \n",
      "==================================================================================================\n",
      " v2_input_0 (InputLayer)        [(None, 707)]        0           []                               \n",
      "                                                                                                  \n",
      " v2_en_embedding (Embedding)    (None, 707, 500)     19500       ['v2_input_0[0][0]']             \n",
      "                                                                                                  \n",
      " v2_LSTM1 (LSTM)                [(None, 707, 500),   2002000     ['v2_en_embedding[0][0]']        \n",
      "                                 (None, 500),                                                     \n",
      "                                 (None, 500)]                                                     \n",
      "                                                                                                  \n",
      " v2_input_1 (InputLayer)        [(None, None)]       0           []                               \n",
      "                                                                                                  \n",
      " v2_LSTM2 (LSTM)                [(None, 707, 500),   2002000     ['v2_LSTM1[0][0]']               \n",
      "                                 (None, 500),                                                     \n",
      "                                 (None, 500)]                                                     \n",
      "                                                                                                  \n",
      " v2_embedding (Embedding)       (None, None, 500)    199500      ['v2_input_1[0][0]']             \n",
      "                                                                                                  \n",
      " v2_LSTM3 (LSTM)                [(None, 707, 500),   2002000     ['v2_LSTM2[0][0]']               \n",
      "                                 (None, 500),                                                     \n",
      "                                 (None, 500)]                                                     \n",
      "                                                                                                  \n",
      " v2_lstm (LSTM)                 [(None, None, 500),  2002000     ['v2_embedding[0][0]',           \n",
      "                                 (None, 500),                     'v2_LSTM3[0][1]',               \n",
      "                                 (None, 500)]                     'v2_LSTM3[0][2]']               \n",
      "                                                                                                  \n",
      " v2_attention (Attention)       (None, None, 500)    0           ['v2_lstm[0][0]',                \n",
      "                                                                  'v2_LSTM3[0][0]']               \n",
      "                                                                                                  \n",
      " v2_concat_layer1 (Concatenate)  (None, None, 1000)  0           ['v2_lstm[0][0]',                \n",
      "                                                                  'v2_attention[0][0]']           \n",
      "                                                                                                  \n",
      " v2_dense (Dense)               (None, None, 399)    399399      ['v2_concat_layer1[0][0]']       \n",
      "                                                                                                  \n",
      "==================================================================================================\n",
      "Total params: 8,626,399\n",
      "Trainable params: 8,626,399\n",
      "Non-trainable params: 0\n",
      "__________________________________________________________________________________________________\n"
     ]
    }
   ],
   "source": [
    "K.clear_session() \n",
    "latent_dim = 500\n",
    "\n",
    "# Encoder \n",
    "# Create input object of total number of encoder words\n",
    "en_inputs = Input(shape=(max_in_len,),name='input_0')\n",
    "\n",
    "en_embedding = Embedding(num_in_words+1, latent_dim, name='en_embedding')(en_inputs) \n",
    "\n",
    "# Create 3 stacked LSTM layer with the shape of hidden dimension for text summarizer using deep learning\n",
    "# LSTM 1\n",
    "en_lstm1= LSTM(latent_dim, return_state=True, return_sequences=True,name='LSTM1') \n",
    "en_outputs1, state_h1, state_c1= en_lstm1(en_embedding) \n",
    " \n",
    "# LSTM2\n",
    "en_lstm2= LSTM(latent_dim, return_state=True, return_sequences=True,name='LSTM2') \n",
    "en_outputs2, state_h2, state_c2= en_lstm2(en_outputs1) \n",
    " \n",
    "# LSTM3\n",
    "en_lstm3= LSTM(latent_dim,return_sequences=True,return_state=True,name='LSTM3')\n",
    "en_outputs3 , state_h3 , state_c3= en_lstm3(en_outputs2)\n",
    " \n",
    "# Encoder states\n",
    "en_states= [state_h3, state_c3]\n",
    "\n",
    "# Decoder. \n",
    "dec_inputs = Input(shape=(None,)) \n",
    "dec_emb_layer = Embedding(num_tr_words+1, latent_dim) \n",
    "dec_embedding = dec_emb_layer(dec_inputs) \n",
    " \n",
    "# Initialize decoder's LSTM layer with the output states of encoder\n",
    "dec_lstm = LSTM(latent_dim, return_sequences=True, return_state=True)\n",
    "dec_outputs, *_ = dec_lstm(dec_embedding,initial_state=en_states) \n",
    "\n",
    "# Attention layer\n",
    "attention =Attention()\n",
    "attn_out = attention([dec_outputs,en_outputs3])\n",
    " \n",
    "# Concatenate the attention output with the decoder outputs\n",
    "merge=Concatenate(axis=-1, name='concat_layer1')([dec_outputs,attn_out])\n",
    "\n",
    "# Dense layer (output layer)\n",
    "dec_dense = Dense(num_tr_words+1, activation='softmax')\n",
    "dec_outputs = dec_dense(merge) \n",
    "\n",
    "# Model class and model summary for text Summarizer\n",
    "new_model = Model([en_inputs, dec_inputs], dec_outputs) \n",
    "model = add_prefix(new_model, 'v2_')\n",
    "model.summary()"
   ]
  },
  {
   "cell_type": "code",
   "execution_count": 10,
   "id": "1b48b769",
   "metadata": {},
   "outputs": [],
   "source": [
    "model.compile( \n",
    "    optimizer=\"rmsprop\", loss=\"sparse_categorical_crossentropy\", metrics=[\"accuracy\"] \n",
    ") "
   ]
  },
  {
   "cell_type": "code",
   "execution_count": 11,
   "id": "b60b7458",
   "metadata": {},
   "outputs": [],
   "source": [
    "from tensorflow.keras.callbacks import EarlyStopping\n",
    "es = EarlyStopping(monitor='val_loss', mode='min', verbose=1)"
   ]
  },
  {
   "cell_type": "code",
   "execution_count": 12,
   "id": "95521216",
   "metadata": {},
   "outputs": [
    {
     "name": "stdout",
     "output_type": "stream",
     "text": [
      "Epoch 1/15\n",
      "1/1 [==============================] - 206s 206s/step - loss: 5.9912 - accuracy: 7.7295e-04 - val_loss: 3.7558 - val_accuracy: 0.8339\n",
      "Epoch 2/15\n",
      "1/1 [==============================] - 190s 190s/step - loss: 3.8183 - accuracy: 0.8446 - val_loss: 1.9347 - val_accuracy: 0.8339\n",
      "Epoch 3/15\n",
      "1/1 [==============================] - 178s 178s/step - loss: 1.7376 - accuracy: 0.8446 - val_loss: 1.7227 - val_accuracy: 0.7096\n",
      "Epoch 4/15\n",
      "1/1 [==============================] - 182s 182s/step - loss: 1.6344 - accuracy: 0.7213 - val_loss: 1.3434 - val_accuracy: 0.8339\n",
      "Epoch 5/15\n",
      "1/1 [==============================] - 196s 196s/step - loss: 1.1621 - accuracy: 0.8446 - val_loss: 0.9552 - val_accuracy: 0.8339\n",
      "Epoch 6/15\n",
      "1/1 [==============================] - 185s 185s/step - loss: 0.8031 - accuracy: 0.8446 - val_loss: 0.9252 - val_accuracy: 0.8339\n",
      "Epoch 7/15\n",
      "1/1 [==============================] - 181s 181s/step - loss: 0.7741 - accuracy: 0.8446 - val_loss: 0.9234 - val_accuracy: 0.8339\n",
      "Epoch 8/15\n",
      "1/1 [==============================] - 184s 184s/step - loss: 0.7628 - accuracy: 0.8446 - val_loss: 0.9202 - val_accuracy: 0.8374\n",
      "Epoch 9/15\n",
      "1/1 [==============================] - 181s 181s/step - loss: 0.7545 - accuracy: 0.8475 - val_loss: 0.9186 - val_accuracy: 0.8426\n",
      "Epoch 10/15\n",
      "1/1 [==============================] - 185s 185s/step - loss: 0.7467 - accuracy: 0.8539 - val_loss: 0.9159 - val_accuracy: 0.8417\n",
      "Epoch 11/15\n",
      "1/1 [==============================] - 188s 188s/step - loss: 0.7398 - accuracy: 0.8527 - val_loss: 0.9138 - val_accuracy: 0.8452\n",
      "Epoch 12/15\n",
      "1/1 [==============================] - 193s 193s/step - loss: 0.7333 - accuracy: 0.8602 - val_loss: 0.9108 - val_accuracy: 0.8435\n",
      "Epoch 13/15\n",
      "1/1 [==============================] - 191s 191s/step - loss: 0.7269 - accuracy: 0.8587 - val_loss: 0.9085 - val_accuracy: 0.8470\n",
      "Epoch 14/15\n",
      "1/1 [==============================] - 1326s 1326s/step - loss: 0.7207 - accuracy: 0.8602 - val_loss: 0.9051 - val_accuracy: 0.8435\n",
      "Epoch 15/15\n",
      "1/1 [==============================] - 210s 210s/step - loss: 0.7147 - accuracy: 0.8624 - val_loss: 0.9030 - val_accuracy: 0.8470\n"
     ]
    }
   ],
   "source": [
    "history=model.fit( \n",
    "    [en_in_data, dec_in_data],\n",
    "    dec_tr_data, \n",
    "    batch_size=512, \n",
    "    epochs=15, \n",
    "    validation_split=0.1,\n",
    "    )"
   ]
  },
  {
   "cell_type": "code",
   "execution_count": 13,
   "id": "b0d27ea3",
   "metadata": {},
   "outputs": [
    {
     "name": "stderr",
     "output_type": "stream",
     "text": [
      "WARNING:absl:Found untraced functions such as lstm_cell_4_layer_call_fn, lstm_cell_4_layer_call_and_return_conditional_losses, lstm_cell_5_layer_call_fn, lstm_cell_5_layer_call_and_return_conditional_losses, lstm_cell_6_layer_call_fn while saving (showing 5 of 8). These functions will not be directly callable after loading.\n"
     ]
    },
    {
     "name": "stdout",
     "output_type": "stream",
     "text": [
      "INFO:tensorflow:Assets written to: s2s\\assets\n"
     ]
    },
    {
     "name": "stderr",
     "output_type": "stream",
     "text": [
      "INFO:tensorflow:Assets written to: s2s\\assets\n"
     ]
    }
   ],
   "source": [
    "#Save model\n",
    "model.save(\"s2s\")"
   ]
  },
  {
   "cell_type": "code",
   "execution_count": 14,
   "id": "56779e98",
   "metadata": {},
   "outputs": [
    {
     "data": {
      "image/png": "[encoded data removed]",
      "text/plain": [
       "<Figure size 432x288 with 1 Axes>"
      ]
     },
     "metadata": {
      "needs_background": "light"
     },
     "output_type": "display_data"
    }
   ],
   "source": [
    "from matplotlib import pyplot \n",
    "pyplot.plot(history.history['accuracy'], label='train') \n",
    "pyplot.plot(history.history['val_accuracy'], label='test') \n",
    "pyplot.legend() \n",
    "pyplot.show()"
   ]
  },
  {
   "cell_type": "code",
   "execution_count": 16,
   "id": "053416be",
   "metadata": {},
   "outputs": [
    {
     "data": {
      "image/png": "[encoded data removed]",
      "text/plain": [
       "<Figure size 432x288 with 1 Axes>"
      ]
     },
     "metadata": {
      "needs_background": "light"
     },
     "output_type": "display_data"
    }
   ],
   "source": [
    "from matplotlib import pyplot \n",
    "pyplot.plot(history.history['loss'], label='train') \n",
    "pyplot.plot(history.history['val_loss'], label='test') \n",
    "pyplot.legend() \n",
    "pyplot.show()"
   ]
  },
  {
   "cell_type": "code",
   "execution_count": 30,
   "id": "d54cc02d",
   "metadata": {},
   "outputs": [],
   "source": [
    "# Encoder inference\n",
    "latent_dim=500#load the model\n",
    "model = models.load_model(\"s2s\")\n",
    " \n",
    "# Construct encoder model from the output of 6 layer i.e.last LSTM layer\n",
    "en_outputs,state_h_enc,state_c_enc = model.layers[6].output\n",
    "en_states=[state_h_enc,state_c_enc]\n",
    "# Add input and state from the layer.\n",
    "en_model = Model(model.input[0],[en_outputs]+en_states)\n",
    "\n",
    "# Decoder inference\n",
    "# Create Input object for hidden and cell state for decoder\n",
    "# Shape of layer with hidden or latent dimension\n",
    "dec_state_input_h = Input(shape=(latent_dim,))\n",
    "dec_state_input_c = Input(shape=(latent_dim,))\n",
    "dec_hidden_state_input = Input(shape=(max_in_len,latent_dim))\n",
    " \n",
    "# Get the embeddings and input layer from the model\n",
    "dec_inputs = model.input[1]\n",
    "dec_emb_layer = model.layers[5]\n",
    "dec_lstm = model.layers[7]\n",
    "dec_embedding= dec_emb_layer(dec_inputs)\n",
    " \n",
    "# Add input and initialize LSTM layer with encoder LSTM states.\n",
    "dec_outputs2, state_h2, state_c2 = dec_lstm(dec_embedding, initial_state=[dec_state_input_h,dec_state_input_c])\n",
    "\n",
    "# Attention layer\n",
    "attention = model.layers[8]\n",
    "attn_out2 = attention([dec_outputs2,dec_hidden_state_input])\n",
    " \n",
    "merge2 = Concatenate(axis=-1)([dec_outputs2, attn_out2])\n",
    "\n",
    "# Dense layer\n",
    "dec_dense = model.layers[10]\n",
    "dec_outputs2 = dec_dense(merge2)\n",
    " \n",
    "# Finally define the Model Class\n",
    "dec_model = Model(\n",
    "[dec_inputs] + [dec_hidden_state_input,dec_state_input_h,dec_state_input_c],\n",
    "[dec_outputs2] + [state_h2, state_c2])"
   ]
  },
  {
   "cell_type": "code",
   "execution_count": 20,
   "id": "c83e9235",
   "metadata": {},
   "outputs": [],
   "source": [
    "# import pickle\n",
    "# pickle.dump(en_model, open('./en_model.pkl', 'wb'))"
   ]
  },
  {
   "cell_type": "code",
   "execution_count": 58,
   "id": "b569558b",
   "metadata": {},
   "outputs": [],
   "source": [
    "# Create a dictionary with a key as index and value as words.\n",
    "reverse_target_word_index = tr_tokenizer.index_word\n",
    "reverse_source_word_index = in_tokenizer.index_word\n",
    "target_word_index = tr_tokenizer.word_index\n",
    "reverse_target_word_index[0]=' '\n",
    "# reverse_target_word_index"
   ]
  },
  {
   "cell_type": "code",
   "execution_count": 59,
   "id": "831ffece",
   "metadata": {},
   "outputs": [],
   "source": [
    "def decode_sequence_naive(input_seq):\n",
    "    # Encode the input as state vectors.\n",
    "    # Get the encoder output and states by passing the input sequence\n",
    "    en_out, en_h, en_c= en_model.predict(input_seq)\n",
    " \n",
    "    # Generate empty target sequence of length 1.\n",
    "    target_seq = np.zeros((1, 1))\n",
    "    \n",
    "    # Target sequence with initial word as 'start'\n",
    "    target_seq[0, 0] = target_word_index['start']\n",
    " \n",
    "    # If the iteration reaches the end of text than it will be stop the iteration\n",
    "    stop_condition = False\n",
    "    \n",
    "    # Append every predicted word in decoded sentence\n",
    "    decoded_sentence = \"\"\n",
    "    while not stop_condition: \n",
    "        # Get predicted output, hidden and cell state.\n",
    "        output_words, dec_h, dec_c= dec_model.predict([target_seq] + [en_out,en_h, en_c])\n",
    "        \n",
    "        # Get the index and from the dictionary get the word for that index.\n",
    "        word_index = np.argmax(output_words[0, -1, :])\n",
    "        text_word = reverse_target_word_index[word_index]\n",
    "        print(\"text_word\", text_word)\n",
    "        decoded_sentence += text_word +\" \"\n",
    "        \n",
    "        # Exit condition: either hit max length or find a stop word or last word.\n",
    "        if text_word == \"end\" or len(decoded_sentence) > max_tr_len:\n",
    "            stop_condition = True\n",
    "            \n",
    "        # Update target sequence to the current word index.\n",
    "        target_seq = np.zeros((1, 1))\n",
    "        target_seq[0, 0] = word_index\n",
    "        en_h, en_c = dec_h, dec_c\n",
    "    # Return the decoded sentence\n",
    "    return decoded_sentence"
   ]
  },
  {
   "cell_type": "code",
   "execution_count": 60,
   "id": "bcca5ed3",
   "metadata": {},
   "outputs": [],
   "source": [
    "def beam_step(model, beam_size, target_seq, en_out, en_h, en_c):\n",
    "        \n",
    "    output_words, dec_h, dec_c = model.predict([target_seq] + [en_out, en_h, en_c])\n",
    "    # Get indexes of all the top probabilities\n",
    "    word_indexes = np.argpartition(output_words[0, -1, :], -beam_size)[-beam_size:]\n",
    "\n",
    "    return word_indexes[:beam_size], np.log(output_words[0, -1, word_indexes]), dec_h, dec_c\n",
    "\n",
    "def decode_sequence_beamsearch(input_seq):\n",
    "    # Encode the input as state vectors.\n",
    "    # Get the encoder output and states by passing the input sequence\n",
    "    en_out, en_h, en_c = en_model.predict(input_seq)\n",
    "    \n",
    "    # Generate empty target sequence of length 1.\n",
    "    target_seq = np.zeros((1, 1))\n",
    "    \n",
    "    # Target sequence with initial word as 'start'\n",
    "    target_seq[0, 0] = target_word_index['start']\n",
    "   \n",
    "    past_targets = [target_seq]\n",
    "    past_hs = [en_h]\n",
    "    past_cs = [en_c]\n",
    " \n",
    "    # If the iteration reaches the end of text than it will be stop the iteration\n",
    "    stop_condition = False\n",
    "    \n",
    "    beam_indices = []\n",
    "    beam_probs = []\n",
    "    beam_words = []\n",
    "    \n",
    "    BSIZE = 4\n",
    "    cpt = True\n",
    "    \n",
    "    while not stop_condition: \n",
    "        idxes_beam = []\n",
    "        pbs_beam = []\n",
    "        for past_target, past_h, past_c in zip(past_targets, past_hs, past_cs):\n",
    "            print(\"past_targets = \", past_targets)\n",
    "            # for each couple of (past_targets, past_hs, past_cs) predict the best word along with BSIZE (3) words after it (we are keeping indexes)\n",
    "            if (cpt):\n",
    "                NEWBSIZE = BSIZE\n",
    "                idxes, pbs, h, c = beam_step(dec_model, NEWBSIZE, past_target, en_out, past_hs, past_cs)\n",
    "                cpt = False\n",
    "            else:\n",
    "                NEWBSIZE = BSIZE*BSIZE\n",
    "                idxes, pbs, h, c = beam_step(dec_model, NEWBSIZE, past_target, en_out, past_hs, past_cs)\n",
    "            # add the indexes of those words to the end of idxes_beam\n",
    "            idxes_beam.extend(idxes)\n",
    "            # add the proba of those words to the list of probs \n",
    "            pbs_beam.extend(pbs)\n",
    "            # The append() method adds a single element to the end of a list, and the extend() method adds multiple items.\n",
    "          \n",
    "        \n",
    "        # choose the max proba among the maxes\n",
    "        word_indexes = np.argpartition(pbs_beam, -BSIZE)[-BSIZE:]\n",
    "        # np.divmod(x, y) is equivalent to (x // y, x % y)  \n",
    "        idx_div, idx_mod = np.divmod(word_indexes, BSIZE)\n",
    "        beam_indices.append(idx_div)\n",
    "        beam_words.append(np.array(idxes_beam)[word_indexes])\n",
    "        if len(beam_probs) == 0:\n",
    "            beam_probs.append(np.array(pbs_beam)[word_indexes])\n",
    "\n",
    "        else:\n",
    "            beam_probs.append(np.array(pbs_beam)[word_indexes] + beam_probs[-1][idx_div]) \n",
    "\n",
    "        word_index = beam_words[-1][np.argmax(beam_probs[-1])]\n",
    "        text_word = reverse_target_word_index[word_index]\n",
    "        \n",
    "        # Exit condition: either hit max length or find a stop word or last word.\n",
    "        if text_word == \"end\" or len(beam_words) == max_tr_len:\n",
    "            print (\"Exit condition\")\n",
    "            stop_condition = True\n",
    "            \n",
    "        # Update target sequence to the current word index.\n",
    "        past_targets = []\n",
    "        past_hs = h\n",
    "        past_cs = c\n",
    "\n",
    "        for i in range(BSIZE):\n",
    "            target_seq = np.zeros((1, 1))\n",
    "            target_seq[0, 0] = beam_words[-1][i]\n",
    "            past_targets.append(target_seq)\n",
    "            \n",
    "    \n",
    "    words = []\n",
    "    \n",
    "    i = len(beam_probs) - 1\n",
    "    j = np.argmax(beam_probs[i])\n",
    "    \n",
    "    while i > -1:\n",
    "        word_index = beam_words[i][j]\n",
    "        text_word = reverse_target_word_index[word_index]\n",
    "        words.insert(0, text_word)\n",
    "        j = beam_indices[i][j]\n",
    "        i -= 1\n",
    "        \n",
    "    # Return the decoded sentence\n",
    "    print (\"join(words)\", \" \".join(words))\n",
    "    return \" \".join(words)"
   ]
  },
  {
   "cell_type": "code",
   "execution_count": null,
   "id": "2ff3a61e",
   "metadata": {},
   "outputs": [],
   "source": [
    "# inpt_txt = \"whatsapp must receive or collect some information to operate provide improve understand customize support and market our services including when you install access or use our services the types of information we receive and collect depend on how you use our services we require certain information to deliver our services and without this we will not be able to provide our services to you for example you must provide your mobile phone number to create an account to use our service\"\n",
    "inpt_txt = \"we may collect your personal data when you register for or use our services such as when you create an account make a payment or make a purchase on a merchants website\"\n",
    "# inpt_txt = \"4 commercial information for example online shopping cart information purchase history\"\n",
    "print(\"text :\",inpt_txt)\n",
    "inpt_txt = clean(inpt_txt)\n",
    "# inpt_txt = ' '.join(inpt_txt)\n",
    "inp_x= in_tokenizer.texts_to_sequences([inpt_txt]) \n",
    "inp_x= pad_sequences(inp_x,  maxlen=max_in_len, padding='post')\n",
    " \n",
    "summary=decode_sequence_beamsearch(inp_x.reshape(1,max_in_len))\n",
    "if 'end' in summary :\n",
    "    summary=summary.replace('end','')\n",
    "print(\"\\nPredicted summary:\",summary);print(\"\\n\")"
   ]
  },
  {
   "cell_type": "code",
   "execution_count": 62,
   "id": "f9389afe",
   "metadata": {},
   "outputs": [],
   "source": [
    "from keras.models import model_from_json\n",
    "model_json = model.to_json()\n",
    "with open(\"model.json\", \"w\") as json_file:\n",
    "    json_file.write(model_json)\n",
    "# serialize weights to HDF5\n",
    "model.save_weights(\"model.h5\")\n",
    "#After executing this we will be having two file in same directory model.json & model.h5\n"
   ]
  },
  {
   "cell_type": "code",
   "execution_count": 63,
   "id": "46e9531d",
   "metadata": {},
   "outputs": [],
   "source": [
    "import pickle\n",
    "# pickle.dump(model, open('./txt_generator.pkl', 'wb'))\n",
    "pickle.dump(in_tokenizer, open('./in_tokenizer.pkl', 'wb'))\n",
    "pickle.dump(tr_tokenizer, open('./tr_tokenizer.pkl', 'wb'))\n",
    "# pickle.dump(en_in_data, open('./pad_sequences.pkl', 'wb'))"
   ]
  },
  {
   "cell_type": "code",
   "execution_count": 64,
   "id": "100829c9",
   "metadata": {},
   "outputs": [
    {
     "data": {
      "text/plain": [
       "<keras.preprocessing.text.Tokenizer at 0x1598e82ccd0>"
      ]
     },
     "execution_count": 64,
     "metadata": {},
     "output_type": "execute_result"
    }
   ],
   "source": [
    "in_tokenizer = pickle.load(open('in_tokenizer.pkl', 'rb'))\n",
    "in_tokenizer"
   ]
  },
  {
   "cell_type": "code",
   "execution_count": 65,
   "id": "ec550484",
   "metadata": {},
   "outputs": [
    {
     "data": {
      "text/plain": [
       "<keras.preprocessing.text.Tokenizer at 0x159bc992bb0>"
      ]
     },
     "execution_count": 65,
     "metadata": {},
     "output_type": "execute_result"
    }
   ],
   "source": [
    "tr_tokenizer = pickle.load(open('tr_tokenizer.pkl', 'rb'))\n",
    "tr_tokenizer"
   ]
  }
 ],
 "metadata": {
  "kernelspec": {
   "display_name": "venv",
   "language": "python",
   "name": "venv"
  },
  "language_info": {
   "codemirror_mode": {
    "name": "ipython",
    "version": 3
   },
   "file_extension": ".py",
   "mimetype": "text/x-python",
   "name": "python",
   "nbconvert_exporter": "python",
   "pygments_lexer": "ipython3",
   "version": "3.9.5"
  }
 },
 "nbformat": 4,
 "nbformat_minor": 5
}
