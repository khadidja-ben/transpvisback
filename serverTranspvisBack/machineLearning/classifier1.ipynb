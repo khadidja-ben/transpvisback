{
 "cells": [
  {
   "cell_type": "code",
   "execution_count": 1,
   "id": "68cb75ff",
   "metadata": {},
   "outputs": [],
   "source": [
    "import pandas as pd\n",
    "import nltk\n",
    "from sklearn.metrics import classification_report\n",
    "from sklearn.naive_bayes import MultinomialNB\n",
    "from sklearn.feature_extraction.text import CountVectorizer\n",
    "from sklearn.model_selection import train_test_split"
   ]
  },
  {
   "cell_type": "code",
   "execution_count": 2,
   "id": "96cbd755",
   "metadata": {
    "scrolled": true
   },
   "outputs": [
    {
     "data": {
      "text/html": [
       "<div>\n",
       "<style scoped>\n",
       "    .dataframe tbody tr th:only-of-type {\n",
       "        vertical-align: middle;\n",
       "    }\n",
       "\n",
       "    .dataframe tbody tr th {\n",
       "        vertical-align: top;\n",
       "    }\n",
       "\n",
       "    .dataframe thead th {\n",
       "        text-align: right;\n",
       "    }\n",
       "</style>\n",
       "<table border=\"1\" class=\"dataframe\">\n",
       "  <thead>\n",
       "    <tr style=\"text-align: right;\">\n",
       "      <th></th>\n",
       "      <th>paragraph</th>\n",
       "      <th>classe</th>\n",
       "    </tr>\n",
       "  </thead>\n",
       "  <tbody>\n",
       "    <tr>\n",
       "      <th>0</th>\n",
       "      <td>if you live in the european region whatsapp ir...</td>\n",
       "      <td>False</td>\n",
       "    </tr>\n",
       "    <tr>\n",
       "      <th>1</th>\n",
       "      <td>whatsapp legal info</td>\n",
       "      <td>False</td>\n",
       "    </tr>\n",
       "    <tr>\n",
       "      <th>2</th>\n",
       "      <td>if you live outside the european region whatsa...</td>\n",
       "      <td>False</td>\n",
       "    </tr>\n",
       "    <tr>\n",
       "      <th>3</th>\n",
       "      <td>for example our privacy policy talks about wha...</td>\n",
       "      <td>False</td>\n",
       "    </tr>\n",
       "    <tr>\n",
       "      <th>4</th>\n",
       "      <td>we are one of the facebook companies you can l...</td>\n",
       "      <td>False</td>\n",
       "    </tr>\n",
       "  </tbody>\n",
       "</table>\n",
       "</div>"
      ],
      "text/plain": [
       "                                           paragraph  classe\n",
       "0  if you live in the european region whatsapp ir...   False\n",
       "1                                whatsapp legal info   False\n",
       "2  if you live outside the european region whatsa...   False\n",
       "3  for example our privacy policy talks about wha...   False\n",
       "4  we are one of the facebook companies you can l...   False"
      ]
     },
     "execution_count": 2,
     "metadata": {},
     "output_type": "execute_result"
    }
   ],
   "source": [
    "df = pd.read_csv (\"classifier1.csv\",on_bad_lines='skip')\n",
    "df\n",
    "df.head()"
   ]
  },
  {
   "cell_type": "code",
   "execution_count": 3,
   "id": "d9972ac7",
   "metadata": {},
   "outputs": [],
   "source": [
    "# turn the classes and paragraphs into lists \n",
    "\n",
    "classes = df['classe'].tolist()\n",
    "paragraphs = df['paragraph'].tolist()"
   ]
  },
  {
   "cell_type": "code",
   "execution_count": 5,
   "id": "2e296c15",
   "metadata": {},
   "outputs": [
    {
     "data": {
      "text/plain": [
       "(False, 'whatsapp legal info')"
      ]
     },
     "execution_count": 5,
     "metadata": {},
     "output_type": "execute_result"
    }
   ],
   "source": [
    "classes [1], paragraphs [1]"
   ]
  },
  {
   "cell_type": "code",
   "execution_count": 6,
   "id": "7b5ec1a7",
   "metadata": {},
   "outputs": [],
   "source": [
    "# It is better to split the dataset only once and store the two datasets in two separate files\n",
    "# If the samples (separate workouts) will be different then we can't\n",
    "# compare between different models if you apply separate training\n",
    "\n",
    "X1_train, X1_test, y_train, y_test = train_test_split(df[\"paragraph\"],df[\"classe\"],test_size=0.2, random_state=42)\n",
    "\n",
    "count_vectorizer = CountVectorizer()\n",
    "X_train = count_vectorizer.fit_transform(X1_train)\n",
    "X_test = count_vectorizer.transform(X1_test)"
   ]
  },
  {
   "cell_type": "code",
   "execution_count": 7,
   "id": "b6042e85",
   "metadata": {},
   "outputs": [
    {
     "data": {
      "text/plain": [
       "MultinomialNB()"
      ]
     },
     "execution_count": 7,
     "metadata": {},
     "output_type": "execute_result"
    }
   ],
   "source": [
    "#training Naive Bayes\n",
    "\n",
    "naive_bayes = MultinomialNB()\n",
    "naive_bayes.fit(X_train, y_train)"
   ]
  },
  {
   "cell_type": "code",
   "execution_count": 8,
   "id": "36fb74bd",
   "metadata": {},
   "outputs": [],
   "source": [
    "#test Naive Bayes\n",
    "\n",
    "Y_naive_bayes = naive_bayes.predict(X_test)"
   ]
  },
  {
   "cell_type": "code",
   "execution_count": 9,
   "id": "34af0428",
   "metadata": {},
   "outputs": [
    {
     "name": "stdout",
     "output_type": "stream",
     "text": [
      "              precision    recall  f1-score   support\n",
      "\n",
      "       False       0.70      0.64      0.67        33\n",
      "        True       0.82      0.86      0.84        63\n",
      "\n",
      "    accuracy                           0.78        96\n",
      "   macro avg       0.76      0.75      0.75        96\n",
      "weighted avg       0.78      0.78      0.78        96\n",
      "\n"
     ]
    }
   ],
   "source": [
    "print(classification_report(y_test, Y_naive_bayes))"
   ]
  },
  {
   "cell_type": "code",
   "execution_count": 10,
   "id": "d646c192",
   "metadata": {},
   "outputs": [],
   "source": [
    "# The prediction function\n",
    "# For naive bayes, the prediction must go through the same pipeline\n",
    "\n",
    "def predict(text_str):\n",
    "    x_input = count_vectorizer.transform([text_str])\n",
    "    return naive_bayes.predict(x_input)[0]"
   ]
  },
  {
   "cell_type": "code",
   "execution_count": 13,
   "id": "e8b24eaa",
   "metadata": {},
   "outputs": [
    {
     "data": {
      "text/plain": [
       "True"
      ]
     },
     "execution_count": 13,
     "metadata": {},
     "output_type": "execute_result"
    }
   ],
   "source": [
    "#=====================================================================\n",
    "# UNIT TEST \n",
    "#=====================================================================\n",
    "# RESULTS : True \n",
    "#---------------------------------------------------------------------\n",
    "predict(\"we may share personal data with card networks and payment processors\")"
   ]
  },
  {
   "cell_type": "code",
   "execution_count": 14,
   "id": "f4a16d76",
   "metadata": {},
   "outputs": [
    {
     "data": {
      "text/plain": [
       "False"
      ]
     },
     "execution_count": 14,
     "metadata": {},
     "output_type": "execute_result"
    }
   ],
   "source": [
    "#=====================================================================\n",
    "# UNIT TEST \n",
    "#=====================================================================\n",
    "# RESULTS : False\n",
    "#---------------------------------------------------------------------\n",
    "predict(\"if the new version reduces your rights or increases your responsibilities well post it on the policy updates or privacy statement page of our website at least 21 days before it becomes effective\")"
   ]
  },
  {
   "cell_type": "code",
   "execution_count": 16,
   "id": "5b23d7a7",
   "metadata": {},
   "outputs": [
    {
     "data": {
      "text/plain": [
       "['./count_vectorizer.joblib']"
      ]
     },
     "execution_count": 16,
     "metadata": {},
     "output_type": "execute_result"
    }
   ],
   "source": [
    "# Storing the ML model and the vectorizer using joblib\n",
    "# joblib saves data structures in a file to be able to reload them later (for example a machine learning model)\n",
    "# it is more efficient for numpy structures than pickle\n",
    "\n",
    "import joblib\n",
    "joblib.dump(naive_bayes, \"./naive_bayes.joblib\", compress=True)\n",
    "joblib.dump(count_vectorizer, \"./count_vectorizer.joblib\", compress=True)"
   ]
  },
  {
   "cell_type": "code",
   "execution_count": 17,
   "id": "40b50e4e",
   "metadata": {},
   "outputs": [
    {
     "data": {
      "text/plain": [
       "MultinomialNB()"
      ]
     },
     "execution_count": 17,
     "metadata": {},
     "output_type": "execute_result"
    }
   ],
   "source": [
    "#=====================================================================\n",
    "# Testing if the model can be reloaded correctly \n",
    "#=====================================================================\n",
    "# RESULTS : MultinomialNB()\n",
    "#---------------------------------------------------------------------\n",
    "modelReload = joblib.load(\"naive_bayes.joblib\")\n",
    "modelReload"
   ]
  },
  {
   "cell_type": "code",
   "execution_count": 18,
   "id": "e143c928",
   "metadata": {},
   "outputs": [
    {
     "data": {
      "text/plain": [
       "CountVectorizer()"
      ]
     },
     "execution_count": 18,
     "metadata": {},
     "output_type": "execute_result"
    }
   ],
   "source": [
    "#=====================================================================\n",
    "# Testing if the count vectorizer can be reloaded correctly \n",
    "#=====================================================================\n",
    "# RESULTS : CountVectorizer()\n",
    "#---------------------------------------------------------------------\n",
    "vectorizer_to_train_data = joblib.load(\"count_vectorizer.joblib\")\n",
    "vectorizer_to_train_data"
   ]
  },
  {
   "cell_type": "code",
   "execution_count": 19,
   "id": "7b127b99",
   "metadata": {},
   "outputs": [
    {
     "data": {
      "text/plain": [
       "True"
      ]
     },
     "execution_count": 19,
     "metadata": {},
     "output_type": "execute_result"
    }
   ],
   "source": [
    "#===========================================================================================\n",
    "# Testing the prediction function using the reloaded objects (ML model + Count Vectorizer)\n",
    "#===========================================================================================\n",
    "# RESULTS : True\n",
    "#-------------------------------------------------------------------------------------------\n",
    "\n",
    "from scipy.sparse import csr_matrix\n",
    "str = ['make it easy for you to find and connect with others for instance if you let us access your contacts we can suggest connections with people you may know']\n",
    "x_input = vectorizer_to_train_data.transform([word.lower() for word in str])\n",
    "csr_matrix.toarray(x_input)\n",
    "# print (csr_matrix.toarray(x_input)[0])\n",
    "modelReload.predict(csr_matrix.toarray(x_input))[0]"
   ]
  }
 ],
 "metadata": {
  "kernelspec": {
   "display_name": "venv",
   "language": "python",
   "name": "venv"
  },
  "language_info": {
   "codemirror_mode": {
    "name": "ipython",
    "version": 3
   },
   "file_extension": ".py",
   "mimetype": "text/x-python",
   "name": "python",
   "nbconvert_exporter": "python",
   "pygments_lexer": "ipython3",
   "version": "3.9.5"
  }
 },
 "nbformat": 4,
 "nbformat_minor": 5
}
