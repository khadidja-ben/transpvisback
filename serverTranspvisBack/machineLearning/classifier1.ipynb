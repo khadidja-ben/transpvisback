{
 "cells": [
  {
   "cell_type": "code",
   "execution_count": 2,
   "id": "68cb75ff",
   "metadata": {},
   "outputs": [],
   "source": [
    "import pandas as pd\n",
    "import nltk\n",
    "from sklearn.metrics import classification_report\n",
    "from sklearn.naive_bayes import MultinomialNB\n",
    "from sklearn.feature_extraction.text import CountVectorizer\n",
    "from sklearn.model_selection import train_test_split"
   ]
  },
  {
   "cell_type": "code",
   "execution_count": 4,
   "id": "96cbd755",
   "metadata": {},
   "outputs": [
    {
     "data": {
      "text/html": [
       "<div>\n",
       "<style scoped>\n",
       "    .dataframe tbody tr th:only-of-type {\n",
       "        vertical-align: middle;\n",
       "    }\n",
       "\n",
       "    .dataframe tbody tr th {\n",
       "        vertical-align: top;\n",
       "    }\n",
       "\n",
       "    .dataframe thead th {\n",
       "        text-align: right;\n",
       "    }\n",
       "</style>\n",
       "<table border=\"1\" class=\"dataframe\">\n",
       "  <thead>\n",
       "    <tr style=\"text-align: right;\">\n",
       "      <th></th>\n",
       "      <th>classe</th>\n",
       "      <th>paragraph</th>\n",
       "    </tr>\n",
       "  </thead>\n",
       "  <tbody>\n",
       "    <tr>\n",
       "      <th>0</th>\n",
       "      <td>False</td>\n",
       "      <td>if you live in the european region whatsapp ir...</td>\n",
       "    </tr>\n",
       "    <tr>\n",
       "      <th>1</th>\n",
       "      <td>False</td>\n",
       "      <td>whatsapp legal info</td>\n",
       "    </tr>\n",
       "    <tr>\n",
       "      <th>2</th>\n",
       "      <td>False</td>\n",
       "      <td>if you live outside the european region whatsa...</td>\n",
       "    </tr>\n",
       "    <tr>\n",
       "      <th>3</th>\n",
       "      <td>False</td>\n",
       "      <td>for example our privacy policy talks about wha...</td>\n",
       "    </tr>\n",
       "    <tr>\n",
       "      <th>4</th>\n",
       "      <td>False</td>\n",
       "      <td>we are one of the facebook companies you can l...</td>\n",
       "    </tr>\n",
       "  </tbody>\n",
       "</table>\n",
       "</div>"
      ],
      "text/plain": [
       "   classe                                          paragraph\n",
       "0   False  if you live in the european region whatsapp ir...\n",
       "1   False                                whatsapp legal info\n",
       "2   False  if you live outside the european region whatsa...\n",
       "3   False  for example our privacy policy talks about wha...\n",
       "4   False  we are one of the facebook companies you can l..."
      ]
     },
     "execution_count": 4,
     "metadata": {},
     "output_type": "execute_result"
    }
   ],
   "source": [
    "df = pd.read_csv (\"Classeur1.csv\",on_bad_lines='skip')\n",
    "df\n",
    "df.head()"
   ]
  },
  {
   "cell_type": "code",
   "execution_count": 5,
   "id": "d9972ac7",
   "metadata": {},
   "outputs": [],
   "source": [
    "# turn the classes and paragraphs into lists \n",
    "classes = df['classe'].tolist()\n",
    "paragraphs = df['paragraph'].tolist()"
   ]
  },
  {
   "cell_type": "code",
   "execution_count": 6,
   "id": "2e296c15",
   "metadata": {},
   "outputs": [
    {
     "data": {
      "text/plain": [
       "(False,\n",
       " 'for example our privacy policy talks about what information we collect and how this affects you it also explains the steps we take to protect your privacy like building our services so delivered messages arent stored by us and giving you control over who you communicate with on our services')"
      ]
     },
     "execution_count": 6,
     "metadata": {},
     "output_type": "execute_result"
    }
   ],
   "source": [
    "classes [3], paragraphs [3]"
   ]
  },
  {
   "cell_type": "code",
   "execution_count": 7,
   "id": "7b5ec1a7",
   "metadata": {},
   "outputs": [],
   "source": [
    "# Il faut mieux diviser le dataset une seule fois et stocker les deux datasets dans deux fichiers séparés\n",
    "# Puisque si vous appliquez ça à chaque fois les échantillons seront différents et donc\n",
    "# vous ne pouvez pas comparer entre les différents modèles si vous appliquez des entraînement séparés\n",
    "# X1_train, X1_test, y_train, y_test = train_test_split(paragraphs, classes, test_size=0.2, random_state=42)\n",
    "X1_train, X1_test, y_train, y_test = train_test_split(df[\"paragraph\"],df[\"classe\"],test_size=0.2, random_state=42)\n",
    "\n",
    "\n",
    "count_vectorizer = CountVectorizer()\n",
    "X_train = count_vectorizer.fit_transform(X1_train)\n",
    "X_test = count_vectorizer.transform(X1_test)"
   ]
  },
  {
   "cell_type": "code",
   "execution_count": 8,
   "id": "b6042e85",
   "metadata": {},
   "outputs": [
    {
     "data": {
      "text/plain": [
       "MultinomialNB()"
      ]
     },
     "execution_count": 8,
     "metadata": {},
     "output_type": "execute_result"
    }
   ],
   "source": [
    "#entrainement Naive Bayes\n",
    "naive_bayes = MultinomialNB()\n",
    "naive_bayes.fit(X_train, y_train)"
   ]
  },
  {
   "cell_type": "code",
   "execution_count": 9,
   "id": "36fb74bd",
   "metadata": {},
   "outputs": [],
   "source": [
    "#test Naive Bayes\n",
    "Y_naive_bayes = naive_bayes.predict(X_test)"
   ]
  },
  {
   "cell_type": "code",
   "execution_count": 17,
   "id": "34af0428",
   "metadata": {},
   "outputs": [
    {
     "name": "stdout",
     "output_type": "stream",
     "text": [
      "              precision    recall  f1-score   support\n",
      "\n",
      "       False       0.70      0.64      0.67        33\n",
      "        True       0.82      0.86      0.84        63\n",
      "\n",
      "    accuracy                           0.78        96\n",
      "   macro avg       0.76      0.75      0.75        96\n",
      "weighted avg       0.78      0.78      0.78        96\n",
      "\n"
     ]
    }
   ],
   "source": [
    "print(classification_report(y_test, Y_naive_bayes))"
   ]
  },
  {
   "cell_type": "code",
   "execution_count": 18,
   "id": "d646c192",
   "metadata": {},
   "outputs": [],
   "source": [
    "# j'ai modifié votre fonction\n",
    "# Pour naive bayes, la prédiction doit passer par le même pipeline\n",
    "# Dans votre version précédente, vous avez utilisé un autre pipeline que celui \n",
    "# utilisé dans l'entraînement\n",
    "\n",
    "def predict(text_str):\n",
    "    x_input = count_vectorizer.transform([text_str])\n",
    "    return naive_bayes.predict(x_input)[0]"
   ]
  },
  {
   "cell_type": "code",
   "execution_count": 19,
   "id": "e8b24eaa",
   "metadata": {},
   "outputs": [
    {
     "data": {
      "text/plain": [
       "True"
      ]
     },
     "execution_count": 19,
     "metadata": {},
     "output_type": "execute_result"
    }
   ],
   "source": [
    "predict(\"we may share personal data with card networks and payment processors\")"
   ]
  },
  {
   "cell_type": "code",
   "execution_count": 20,
   "id": "f4a16d76",
   "metadata": {},
   "outputs": [
    {
     "data": {
      "text/plain": [
       "False"
      ]
     },
     "execution_count": 20,
     "metadata": {},
     "output_type": "execute_result"
    }
   ],
   "source": [
    "predict(\"if the new version reduces your rights or increases your responsibilities well post it on the policy updates or privacy statement page of our website at least 21 days before it becomes effective\")"
   ]
  },
  {
   "cell_type": "code",
   "execution_count": 21,
   "id": "958ba5f1",
   "metadata": {},
   "outputs": [
    {
     "data": {
      "text/plain": [
       "True"
      ]
     },
     "execution_count": 21,
     "metadata": {},
     "output_type": "execute_result"
    }
   ],
   "source": [
    "predict(\"prezi inc will be the controller of your personal information provided to or collected by or for or processed in connection with our services the terms of use together with the other policies and agreements listed therein are between you and prezi inc in the case of content information you provide see content information section below you control such information you should be solely liable for it and it is outside our control\")"
   ]
  },
  {
   "cell_type": "code",
   "execution_count": 28,
   "id": "6e2493cf",
   "metadata": {},
   "outputs": [
    {
     "data": {
      "text/plain": [
       "{'true': LabelEncoder(), 'fase': LabelEncoder()}"
      ]
     },
     "execution_count": 28,
     "metadata": {},
     "output_type": "execute_result"
    }
   ],
   "source": [
    "# convert categoricals\n",
    "from sklearn.preprocessing import LabelEncoder\n",
    "\n",
    "encoders = {}\n",
    "for column in ['true', 'fase']:\n",
    "    categorical_convert = LabelEncoder()\n",
    "#     X_train[column] = categorical_convert.fit_transform(X_train[column])\n",
    "    encoders[column] = categorical_convert"
   ]
  },
  {
   "cell_type": "code",
   "execution_count": 29,
   "id": "5b23d7a7",
   "metadata": {},
   "outputs": [
    {
     "data": {
      "text/plain": [
       "['./naive_bayes.joblib']"
      ]
     },
     "execution_count": 29,
     "metadata": {},
     "output_type": "execute_result"
    }
   ],
   "source": [
    "import joblib\n",
    "joblib.dump(X_train, \"./X_train.joblib\", compress=True)\n",
    "joblib.dump(encoders, \"./encoders.joblib\", compress=True)\n",
    "joblib.dump(naive_bayes, \"./naive_bayes.joblib\", compress=True)"
   ]
  }
 ],
 "metadata": {
  "kernelspec": {
   "display_name": "venv",
   "language": "python",
   "name": "venv"
  },
  "language_info": {
   "codemirror_mode": {
    "name": "ipython",
    "version": 3
   },
   "file_extension": ".py",
   "mimetype": "text/x-python",
   "name": "python",
   "nbconvert_exporter": "python",
   "pygments_lexer": "ipython3",
   "version": "3.9.5"
  }
 },
 "nbformat": 4,
 "nbformat_minor": 5
}
