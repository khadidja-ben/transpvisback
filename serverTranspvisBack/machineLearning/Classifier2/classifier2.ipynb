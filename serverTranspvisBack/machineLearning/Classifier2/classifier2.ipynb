{
 "cells": [
  {
   "cell_type": "code",
   "execution_count": 18,
   "id": "68cb75ff",
   "metadata": {},
   "outputs": [],
   "source": [
    "import pandas as pd\n",
    "import nltk\n",
    "from sklearn.metrics import classification_report\n",
    "from sklearn.naive_bayes import MultinomialNB\n",
    "from sklearn.feature_extraction.text import CountVectorizer\n",
    "from sklearn.feature_extraction.text import TfidfVectorizer\n",
    "\n",
    "from sklearn.model_selection import train_test_split"
   ]
  },
  {
   "cell_type": "code",
   "execution_count": 19,
   "id": "96cbd755",
   "metadata": {
    "scrolled": true
   },
   "outputs": [
    {
     "data": {
      "text/html": [
       "<div>\n",
       "<style scoped>\n",
       "    .dataframe tbody tr th:only-of-type {\n",
       "        vertical-align: middle;\n",
       "    }\n",
       "\n",
       "    .dataframe tbody tr th {\n",
       "        vertical-align: top;\n",
       "    }\n",
       "\n",
       "    .dataframe thead th {\n",
       "        text-align: right;\n",
       "    }\n",
       "</style>\n",
       "<table border=\"1\" class=\"dataframe\">\n",
       "  <thead>\n",
       "    <tr style=\"text-align: right;\">\n",
       "      <th></th>\n",
       "      <th>information element</th>\n",
       "      <th>classe</th>\n",
       "    </tr>\n",
       "  </thead>\n",
       "  <tbody>\n",
       "    <tr>\n",
       "      <th>0</th>\n",
       "      <td>the purpose of collecting data</td>\n",
       "      <td>policy</td>\n",
       "    </tr>\n",
       "    <tr>\n",
       "      <th>1</th>\n",
       "      <td>the purpose of collecting additional data</td>\n",
       "      <td>policy</td>\n",
       "    </tr>\n",
       "    <tr>\n",
       "      <th>2</th>\n",
       "      <td>why collecting the account information</td>\n",
       "      <td>policy</td>\n",
       "    </tr>\n",
       "    <tr>\n",
       "      <th>3</th>\n",
       "      <td>where delivered messages are stored</td>\n",
       "      <td>data</td>\n",
       "    </tr>\n",
       "    <tr>\n",
       "      <th>4</th>\n",
       "      <td>how to deal with undelivered messages</td>\n",
       "      <td>process</td>\n",
       "    </tr>\n",
       "    <tr>\n",
       "      <th>...</th>\n",
       "      <td>...</td>\n",
       "      <td>...</td>\n",
       "    </tr>\n",
       "    <tr>\n",
       "      <th>91</th>\n",
       "      <td>the purpose of sharing data with advertisement...</td>\n",
       "      <td>policy</td>\n",
       "    </tr>\n",
       "    <tr>\n",
       "      <th>92</th>\n",
       "      <td>the purpose of sharing information with softwa...</td>\n",
       "      <td>policy</td>\n",
       "    </tr>\n",
       "    <tr>\n",
       "      <th>93</th>\n",
       "      <td>the purpose of sharing information in connecti...</td>\n",
       "      <td>policy</td>\n",
       "    </tr>\n",
       "    <tr>\n",
       "      <th>94</th>\n",
       "      <td>the purpose of sharing nonpersonal dara for in...</td>\n",
       "      <td>policy</td>\n",
       "    </tr>\n",
       "    <tr>\n",
       "      <th>95</th>\n",
       "      <td>with whom information is shared</td>\n",
       "      <td>data</td>\n",
       "    </tr>\n",
       "  </tbody>\n",
       "</table>\n",
       "<p>96 rows × 2 columns</p>\n",
       "</div>"
      ],
      "text/plain": [
       "                                  information element   classe\n",
       "0                      the purpose of collecting data   policy\n",
       "1           the purpose of collecting additional data   policy\n",
       "2              why collecting the account information   policy\n",
       "3                 where delivered messages are stored     data\n",
       "4               how to deal with undelivered messages  process\n",
       "..                                                ...      ...\n",
       "91  the purpose of sharing data with advertisement...   policy\n",
       "92  the purpose of sharing information with softwa...   policy\n",
       "93  the purpose of sharing information in connecti...   policy\n",
       "94  the purpose of sharing nonpersonal dara for in...   policy\n",
       "95                    with whom information is shared     data\n",
       "\n",
       "[96 rows x 2 columns]"
      ]
     },
     "execution_count": 19,
     "metadata": {},
     "output_type": "execute_result"
    }
   ],
   "source": [
    "df = pd.read_csv (\"classifier2.csv\",on_bad_lines='skip')\n",
    "df\n",
    "# df.head()"
   ]
  },
  {
   "cell_type": "code",
   "execution_count": 20,
   "id": "d9972ac7",
   "metadata": {},
   "outputs": [],
   "source": [
    "# turn the classes and paragraphs into lists \n",
    "\n",
    "IEs = df['information element'].tolist()\n",
    "classes = df['classe'].tolist()"
   ]
  },
  {
   "cell_type": "code",
   "execution_count": 21,
   "id": "2e296c15",
   "metadata": {},
   "outputs": [
    {
     "data": {
      "text/plain": [
       "('the purpose of collecting additional data', 'policy')"
      ]
     },
     "execution_count": 21,
     "metadata": {},
     "output_type": "execute_result"
    }
   ],
   "source": [
    "IEs [1], classes [1]"
   ]
  },
  {
   "cell_type": "code",
   "execution_count": 50,
   "id": "7b5ec1a7",
   "metadata": {},
   "outputs": [],
   "source": [
    "# It is better to split the dataset only once and store the two datasets in two separate files\n",
    "# If the samples (separate workouts) will be different then we can't\n",
    "# compare between different models if you apply separate training\n",
    "\n",
    "X1_train, X1_test, y_train, y_test = train_test_split(df[\"information element\"],df[\"classe\"],test_size=0.2, random_state=42)\n",
    "\n",
    "Tfidf_vectorizer = TfidfVectorizer(ngram_range=(1,2))\n",
    "# count_vectorizer = CountVectorizer()\n",
    "X_train = Tfidf_vectorizer.fit_transform(X1_train)\n",
    "X_test = Tfidf_vectorizer.transform(X1_test)"
   ]
  },
  {
   "cell_type": "code",
   "execution_count": null,
   "id": "933c9e71",
   "metadata": {},
   "outputs": [],
   "source": []
  },
  {
   "cell_type": "code",
   "execution_count": 44,
   "id": "b6042e85",
   "metadata": {},
   "outputs": [
    {
     "data": {
      "text/plain": [
       "MultinomialNB()"
      ]
     },
     "execution_count": 44,
     "metadata": {},
     "output_type": "execute_result"
    }
   ],
   "source": [
    "#training Naive Bayes\n",
    "\n",
    "naive_bayes = MultinomialNB()\n",
    "naive_bayes.fit(X_train, y_train)"
   ]
  },
  {
   "cell_type": "code",
   "execution_count": 45,
   "id": "36fb74bd",
   "metadata": {},
   "outputs": [],
   "source": [
    "#test Naive Bayes\n",
    "\n",
    "Y_naive_bayes = naive_bayes.predict(X_test)"
   ]
  },
  {
   "cell_type": "code",
   "execution_count": 51,
   "id": "34af0428",
   "metadata": {},
   "outputs": [
    {
     "name": "stdout",
     "output_type": "stream",
     "text": [
      "              precision    recall  f1-score   support\n",
      "\n",
      "        data       1.00      0.43      0.60         7\n",
      "      policy       0.71      1.00      0.83        10\n",
      "     process       1.00      1.00      1.00         3\n",
      "\n",
      "    accuracy                           0.80        20\n",
      "   macro avg       0.90      0.81      0.81        20\n",
      "weighted avg       0.86      0.80      0.78        20\n",
      "\n"
     ]
    }
   ],
   "source": [
    "print(classification_report(y_test, Y_naive_bayes))"
   ]
  },
  {
   "cell_type": "code",
   "execution_count": 52,
   "id": "d646c192",
   "metadata": {},
   "outputs": [],
   "source": [
    "# The prediction function\n",
    "# For naive bayes, the prediction must go through the same pipeline\n",
    "\n",
    "def predict(text_str):\n",
    "    x_input = Tfidf_vectorizer.transform([text_str])\n",
    "    print (naive_bayes.predict(x_input))\n",
    "    return naive_bayes.predict_proba(x_input)[0]"
   ]
  },
  {
   "cell_type": "code",
   "execution_count": 53,
   "id": "e8b24eaa",
   "metadata": {},
   "outputs": [
    {
     "name": "stdout",
     "output_type": "stream",
     "text": [
      "['process']\n"
     ]
    },
    {
     "data": {
      "text/plain": [
       "array([0.19509166, 0.2850151 , 0.51989324])"
      ]
     },
     "execution_count": 53,
     "metadata": {},
     "output_type": "execute_result"
    }
   ],
   "source": [
    "#=====================================================================\n",
    "# UNIT TEST \n",
    "#=====================================================================\n",
    "# RESULTS : process\n",
    "#---------------------------------------------------------------------\n",
    "predict(\"how to deal with forwarded media\")"
   ]
  },
  {
   "cell_type": "code",
   "execution_count": 54,
   "id": "f4a16d76",
   "metadata": {},
   "outputs": [
    {
     "name": "stdout",
     "output_type": "stream",
     "text": [
      "['policy']\n"
     ]
    },
    {
     "data": {
      "text/plain": [
       "array([0.0965845 , 0.80992805, 0.09348744])"
      ]
     },
     "execution_count": 54,
     "metadata": {},
     "output_type": "execute_result"
    }
   ],
   "source": [
    "#=====================================================================\n",
    "# UNIT TEST \n",
    "#=====================================================================\n",
    "# RESULTS : policy\n",
    "#---------------------------------------------------------------------\n",
    "predict(\"the purpose of using end to end encryption\")"
   ]
  },
  {
   "cell_type": "code",
   "execution_count": 55,
   "id": "ed7fa086",
   "metadata": {},
   "outputs": [
    {
     "name": "stdout",
     "output_type": "stream",
     "text": [
      "['data']\n"
     ]
    },
    {
     "data": {
      "text/plain": [
       "array([0.60532183, 0.24422657, 0.1504516 ])"
      ]
     },
     "execution_count": 55,
     "metadata": {},
     "output_type": "execute_result"
    }
   ],
   "source": [
    "#=====================================================================\n",
    "# UNIT TEST \n",
    "#=====================================================================\n",
    "# RESULTS : data\n",
    "#---------------------------------------------------------------------\n",
    "predict(\"where delivered messages are stored\")"
   ]
  },
  {
   "cell_type": "code",
   "execution_count": 56,
   "id": "69a6784c",
   "metadata": {},
   "outputs": [],
   "source": [
    "import pickle\n",
    "pickle.dump(naive_bayes, open('./naive_bayes_2.pkl', 'wb'))\n",
    "pickle.dump(Tfidf_vectorizer, open('./count_vectorizer_2.pkl', 'wb'))"
   ]
  },
  {
   "cell_type": "code",
   "execution_count": 57,
   "id": "1529c874",
   "metadata": {},
   "outputs": [
    {
     "data": {
      "text/plain": [
       "MultinomialNB()"
      ]
     },
     "execution_count": 57,
     "metadata": {},
     "output_type": "execute_result"
    }
   ],
   "source": [
    "naive_bayes = pickle.load(open('naive_bayes_2.pkl', 'rb'))\n",
    "naive_bayes"
   ]
  },
  {
   "cell_type": "code",
   "execution_count": 58,
   "id": "bc3823c0",
   "metadata": {},
   "outputs": [
    {
     "data": {
      "text/plain": [
       "TfidfVectorizer(ngram_range=(1, 2))"
      ]
     },
     "execution_count": 58,
     "metadata": {},
     "output_type": "execute_result"
    }
   ],
   "source": [
    "Tfidf_vectorizer = pickle.load(open('count_vectorizer_2.pkl', 'rb'))\n",
    "Tfidf_vectorizer"
   ]
  },
  {
   "cell_type": "code",
   "execution_count": 59,
   "id": "2f1e9c79",
   "metadata": {},
   "outputs": [
    {
     "data": {
      "text/plain": [
       "'policy'"
      ]
     },
     "execution_count": 59,
     "metadata": {},
     "output_type": "execute_result"
    }
   ],
   "source": [
    "#===========================================================================================\n",
    "# Testing the prediction function using the reloaded objects (ML model + Count Vectorizer)\n",
    "#===========================================================================================\n",
    "# RESULTS : policy\n",
    "#-------------------------------------------------------------------------------------------\n",
    "from scipy.sparse import csr_matrix\n",
    "str = ['the purpose of using end to end encryption']\n",
    "x_input = Tfidf_vectorizer.transform([word.lower() for word in str])\n",
    "csr_matrix.toarray(x_input)\n",
    "# print (csr_matrix.toarray(x_input)[0])\n",
    "naive_bayes.predict(csr_matrix.toarray(x_input))[0]"
   ]
  }
 ],
 "metadata": {
  "kernelspec": {
   "display_name": "venv",
   "language": "python",
   "name": "venv"
  },
  "language_info": {
   "codemirror_mode": {
    "name": "ipython",
    "version": 3
   },
   "file_extension": ".py",
   "mimetype": "text/x-python",
   "name": "python",
   "nbconvert_exporter": "python",
   "pygments_lexer": "ipython3",
   "version": "3.9.5"
  }
 },
 "nbformat": 4,
 "nbformat_minor": 5
}
