{
 "cells": [
  {
   "cell_type": "code",
   "execution_count": 20,
   "id": "68cb75ff",
   "metadata": {},
   "outputs": [],
   "source": [
    "import pandas as pd\n",
    "import nltk\n",
    "from sklearn.metrics import classification_report\n",
    "from sklearn.naive_bayes import MultinomialNB\n",
    "from sklearn.feature_extraction.text import CountVectorizer\n",
    "from sklearn.feature_extraction.text import TfidfVectorizer\n",
    "\n",
    "from sklearn.model_selection import train_test_split"
   ]
  },
  {
   "cell_type": "code",
   "execution_count": 22,
   "id": "96cbd755",
   "metadata": {
    "scrolled": true
   },
   "outputs": [
    {
     "data": {
      "text/html": [
       "<div>\n",
       "<style scoped>\n",
       "    .dataframe tbody tr th:only-of-type {\n",
       "        vertical-align: middle;\n",
       "    }\n",
       "\n",
       "    .dataframe tbody tr th {\n",
       "        vertical-align: top;\n",
       "    }\n",
       "\n",
       "    .dataframe thead th {\n",
       "        text-align: right;\n",
       "    }\n",
       "</style>\n",
       "<table border=\"1\" class=\"dataframe\">\n",
       "  <thead>\n",
       "    <tr style=\"text-align: right;\">\n",
       "      <th></th>\n",
       "      <th>information element</th>\n",
       "      <th>classe</th>\n",
       "    </tr>\n",
       "  </thead>\n",
       "  <tbody>\n",
       "    <tr>\n",
       "      <th>0</th>\n",
       "      <td>personal data</td>\n",
       "      <td>data</td>\n",
       "    </tr>\n",
       "    <tr>\n",
       "      <th>1</th>\n",
       "      <td>additional data</td>\n",
       "      <td>data</td>\n",
       "    </tr>\n",
       "    <tr>\n",
       "      <th>2</th>\n",
       "      <td>why collecting account information</td>\n",
       "      <td>policy</td>\n",
       "    </tr>\n",
       "    <tr>\n",
       "      <th>3</th>\n",
       "      <td>where delivered messages are stored</td>\n",
       "      <td>data</td>\n",
       "    </tr>\n",
       "    <tr>\n",
       "      <th>4</th>\n",
       "      <td>how to deal with undelivered messages</td>\n",
       "      <td>process</td>\n",
       "    </tr>\n",
       "    <tr>\n",
       "      <th>...</th>\n",
       "      <td>...</td>\n",
       "      <td>...</td>\n",
       "    </tr>\n",
       "    <tr>\n",
       "      <th>144</th>\n",
       "      <td>other information users provide</td>\n",
       "      <td>data</td>\n",
       "    </tr>\n",
       "    <tr>\n",
       "      <th>145</th>\n",
       "      <td>financial information</td>\n",
       "      <td>data</td>\n",
       "    </tr>\n",
       "    <tr>\n",
       "      <th>146</th>\n",
       "      <td>internet activity information</td>\n",
       "      <td>data</td>\n",
       "    </tr>\n",
       "    <tr>\n",
       "      <th>147</th>\n",
       "      <td>professional and employment related information</td>\n",
       "      <td>data</td>\n",
       "    </tr>\n",
       "    <tr>\n",
       "      <th>148</th>\n",
       "      <td>information from other sources</td>\n",
       "      <td>data</td>\n",
       "    </tr>\n",
       "  </tbody>\n",
       "</table>\n",
       "<p>149 rows × 2 columns</p>\n",
       "</div>"
      ],
      "text/plain": [
       "                                 information element   classe\n",
       "0                                      personal data     data\n",
       "1                                    additional data     data\n",
       "2                 why collecting account information   policy\n",
       "3                where delivered messages are stored     data\n",
       "4              how to deal with undelivered messages  process\n",
       "..                                               ...      ...\n",
       "144                  other information users provide     data\n",
       "145                            financial information     data\n",
       "146                    internet activity information     data\n",
       "147  professional and employment related information     data\n",
       "148                   information from other sources     data\n",
       "\n",
       "[149 rows x 2 columns]"
      ]
     },
     "execution_count": 22,
     "metadata": {},
     "output_type": "execute_result"
    }
   ],
   "source": [
    "df = pd.read_csv (\"classifier2.csv\",on_bad_lines='skip')\n",
    "df\n",
    "# df.head()"
   ]
  },
  {
   "cell_type": "code",
   "execution_count": 23,
   "id": "d9972ac7",
   "metadata": {},
   "outputs": [],
   "source": [
    "# turn the classes and paragraphs into lists \n",
    "\n",
    "IEs = df['information element'].tolist()\n",
    "classes = df['classe'].tolist()"
   ]
  },
  {
   "cell_type": "code",
   "execution_count": 24,
   "id": "2e296c15",
   "metadata": {},
   "outputs": [
    {
     "data": {
      "text/plain": [
       "('additional data', 'data')"
      ]
     },
     "execution_count": 24,
     "metadata": {},
     "output_type": "execute_result"
    }
   ],
   "source": [
    "IEs [1], classes [1]"
   ]
  },
  {
   "cell_type": "code",
   "execution_count": 25,
   "id": "7b5ec1a7",
   "metadata": {},
   "outputs": [],
   "source": [
    "# It is better to split the dataset only once and store the two datasets in two separate files\n",
    "# If the samples (separate workouts) will be different then we can't\n",
    "# compare between different models if you apply separate training\n",
    "\n",
    "X1_train, X1_test, y_train, y_test = train_test_split(df[\"information element\"],df[\"classe\"],test_size=0.2, random_state=42)\n",
    "\n",
    "Tfidf_vectorizer = TfidfVectorizer(ngram_range=(1,2))\n",
    "# count_vectorizer = CountVectorizer()\n",
    "X_train = Tfidf_vectorizer.fit_transform(X1_train)\n",
    "X_test = Tfidf_vectorizer.transform(X1_test)"
   ]
  },
  {
   "cell_type": "code",
   "execution_count": 26,
   "id": "b6042e85",
   "metadata": {},
   "outputs": [
    {
     "data": {
      "text/plain": [
       "MultinomialNB()"
      ]
     },
     "execution_count": 26,
     "metadata": {},
     "output_type": "execute_result"
    }
   ],
   "source": [
    "#training Naive Bayes\n",
    "\n",
    "naive_bayes = MultinomialNB()\n",
    "naive_bayes.fit(X_train, y_train)"
   ]
  },
  {
   "cell_type": "code",
   "execution_count": 27,
   "id": "36fb74bd",
   "metadata": {},
   "outputs": [],
   "source": [
    "#test Naive Bayes\n",
    "\n",
    "Y_naive_bayes = naive_bayes.predict(X_test)"
   ]
  },
  {
   "cell_type": "code",
   "execution_count": 28,
   "id": "34af0428",
   "metadata": {},
   "outputs": [
    {
     "name": "stdout",
     "output_type": "stream",
     "text": [
      "              precision    recall  f1-score   support\n",
      "\n",
      "        data       0.62      0.89      0.73        18\n",
      "      policy       0.50      0.50      0.50         4\n",
      "     process       0.00      0.00      0.00         8\n",
      "\n",
      "    accuracy                           0.60        30\n",
      "   macro avg       0.37      0.46      0.41        30\n",
      "weighted avg       0.44      0.60      0.50        30\n",
      "\n"
     ]
    },
    {
     "name": "stderr",
     "output_type": "stream",
     "text": [
      "d:\\esi\\pfe\\transpvisback\\transpvisback\\lib\\site-packages\\sklearn\\metrics\\_classification.py:1318: UndefinedMetricWarning: Precision and F-score are ill-defined and being set to 0.0 in labels with no predicted samples. Use `zero_division` parameter to control this behavior.\n",
      "  _warn_prf(average, modifier, msg_start, len(result))\n",
      "d:\\esi\\pfe\\transpvisback\\transpvisback\\lib\\site-packages\\sklearn\\metrics\\_classification.py:1318: UndefinedMetricWarning: Precision and F-score are ill-defined and being set to 0.0 in labels with no predicted samples. Use `zero_division` parameter to control this behavior.\n",
      "  _warn_prf(average, modifier, msg_start, len(result))\n",
      "d:\\esi\\pfe\\transpvisback\\transpvisback\\lib\\site-packages\\sklearn\\metrics\\_classification.py:1318: UndefinedMetricWarning: Precision and F-score are ill-defined and being set to 0.0 in labels with no predicted samples. Use `zero_division` parameter to control this behavior.\n",
      "  _warn_prf(average, modifier, msg_start, len(result))\n"
     ]
    }
   ],
   "source": [
    "print(classification_report(y_test, Y_naive_bayes))"
   ]
  },
  {
   "cell_type": "code",
   "execution_count": 29,
   "id": "d646c192",
   "metadata": {},
   "outputs": [],
   "source": [
    "# The prediction function\n",
    "# For naive bayes, the prediction must go through the same pipeline\n",
    "\n",
    "def predict(text_str):\n",
    "    x_input = Tfidf_vectorizer.transform([text_str])\n",
    "    print (naive_bayes.predict(x_input))\n",
    "    return naive_bayes.predict_proba(x_input)[0]"
   ]
  },
  {
   "cell_type": "code",
   "execution_count": 30,
   "id": "e8b24eaa",
   "metadata": {},
   "outputs": [
    {
     "name": "stdout",
     "output_type": "stream",
     "text": [
      "['process']\n"
     ]
    },
    {
     "data": {
      "text/plain": [
       "array([0.36806448, 0.24245664, 0.38947888])"
      ]
     },
     "execution_count": 30,
     "metadata": {},
     "output_type": "execute_result"
    }
   ],
   "source": [
    "#=====================================================================\n",
    "# UNIT TEST \n",
    "#=====================================================================\n",
    "# RESULTS : process\n",
    "#---------------------------------------------------------------------\n",
    "predict(\"deal with forwarded media\")"
   ]
  },
  {
   "cell_type": "code",
   "execution_count": 33,
   "id": "f4a16d76",
   "metadata": {},
   "outputs": [
    {
     "name": "stdout",
     "output_type": "stream",
     "text": [
      "['policy']\n"
     ]
    },
    {
     "data": {
      "text/plain": [
       "array([0.44094079, 0.45426022, 0.10479899])"
      ]
     },
     "execution_count": 33,
     "metadata": {},
     "output_type": "execute_result"
    }
   ],
   "source": [
    "#=====================================================================\n",
    "# UNIT TEST \n",
    "#=====================================================================\n",
    "# RESULTS : policy\n",
    "#---------------------------------------------------------------------\n",
    "predict(\"cookies information\")"
   ]
  },
  {
   "cell_type": "code",
   "execution_count": 35,
   "id": "ed7fa086",
   "metadata": {},
   "outputs": [
    {
     "name": "stdout",
     "output_type": "stream",
     "text": [
      "['data']\n"
     ]
    },
    {
     "data": {
      "text/plain": [
       "array([0.83972969, 0.09814457, 0.06212573])"
      ]
     },
     "execution_count": 35,
     "metadata": {},
     "output_type": "execute_result"
    }
   ],
   "source": [
    "#=====================================================================\n",
    "# UNIT TEST \n",
    "#=====================================================================\n",
    "# RESULTS : data\n",
    "#---------------------------------------------------------------------\n",
    "predict(\"payment information\")"
   ]
  },
  {
   "cell_type": "code",
   "execution_count": 36,
   "id": "69a6784c",
   "metadata": {},
   "outputs": [],
   "source": [
    "import pickle\n",
    "pickle.dump(naive_bayes, open('./naive_bayes_2.pkl', 'wb'))\n",
    "pickle.dump(Tfidf_vectorizer, open('./count_vectorizer_2.pkl', 'wb'))"
   ]
  },
  {
   "cell_type": "code",
   "execution_count": 37,
   "id": "1529c874",
   "metadata": {},
   "outputs": [
    {
     "data": {
      "text/plain": [
       "MultinomialNB()"
      ]
     },
     "execution_count": 37,
     "metadata": {},
     "output_type": "execute_result"
    }
   ],
   "source": [
    "naive_bayes = pickle.load(open('naive_bayes_2.pkl', 'rb'))\n",
    "naive_bayes"
   ]
  },
  {
   "cell_type": "code",
   "execution_count": 38,
   "id": "bc3823c0",
   "metadata": {},
   "outputs": [
    {
     "data": {
      "text/plain": [
       "TfidfVectorizer(ngram_range=(1, 2))"
      ]
     },
     "execution_count": 38,
     "metadata": {},
     "output_type": "execute_result"
    }
   ],
   "source": [
    "Tfidf_vectorizer = pickle.load(open('count_vectorizer_2.pkl', 'rb'))\n",
    "Tfidf_vectorizer"
   ]
  },
  {
   "cell_type": "code",
   "execution_count": 39,
   "id": "2f1e9c79",
   "metadata": {},
   "outputs": [
    {
     "data": {
      "text/plain": [
       "'policy'"
      ]
     },
     "execution_count": 39,
     "metadata": {},
     "output_type": "execute_result"
    }
   ],
   "source": [
    "#===========================================================================================\n",
    "# Testing the prediction function using the reloaded objects (ML model + Count Vectorizer)\n",
    "#===========================================================================================\n",
    "# RESULTS : policy\n",
    "#-------------------------------------------------------------------------------------------\n",
    "from scipy.sparse import csr_matrix\n",
    "str = ['using end to end encryption']\n",
    "x_input = Tfidf_vectorizer.transform([word.lower() for word in str])\n",
    "csr_matrix.toarray(x_input)\n",
    "# print (csr_matrix.toarray(x_input)[0])\n",
    "naive_bayes.predict(csr_matrix.toarray(x_input))[0]"
   ]
  }
 ],
 "metadata": {
  "kernelspec": {
   "display_name": "venv",
   "language": "python",
   "name": "venv"
  },
  "language_info": {
   "codemirror_mode": {
    "name": "ipython",
    "version": 3
   },
   "file_extension": ".py",
   "mimetype": "text/x-python",
   "name": "python",
   "nbconvert_exporter": "python",
   "pygments_lexer": "ipython3",
   "version": "3.9.5"
  }
 },
 "nbformat": 4,
 "nbformat_minor": 5
}
