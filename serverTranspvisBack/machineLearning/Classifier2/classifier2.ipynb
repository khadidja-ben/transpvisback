{
 "cells": [
  {
   "cell_type": "code",
   "execution_count": 1,
   "id": "68cb75ff",
   "metadata": {},
   "outputs": [],
   "source": [
    "import pandas as pd\n",
    "import nltk\n",
    "from sklearn.metrics import classification_report\n",
    "from sklearn.naive_bayes import MultinomialNB\n",
    "from sklearn.feature_extraction.text import CountVectorizer\n",
    "from sklearn.model_selection import train_test_split"
   ]
  },
  {
   "cell_type": "code",
   "execution_count": 2,
   "id": "96cbd755",
   "metadata": {
    "scrolled": true
   },
   "outputs": [
    {
     "data": {
      "text/html": [
       "<div>\n",
       "<style scoped>\n",
       "    .dataframe tbody tr th:only-of-type {\n",
       "        vertical-align: middle;\n",
       "    }\n",
       "\n",
       "    .dataframe tbody tr th {\n",
       "        vertical-align: top;\n",
       "    }\n",
       "\n",
       "    .dataframe thead th {\n",
       "        text-align: right;\n",
       "    }\n",
       "</style>\n",
       "<table border=\"1\" class=\"dataframe\">\n",
       "  <thead>\n",
       "    <tr style=\"text-align: right;\">\n",
       "      <th></th>\n",
       "      <th>information element</th>\n",
       "      <th>classe</th>\n",
       "    </tr>\n",
       "  </thead>\n",
       "  <tbody>\n",
       "    <tr>\n",
       "      <th>0</th>\n",
       "      <td>the purpose of collecting data</td>\n",
       "      <td>policy</td>\n",
       "    </tr>\n",
       "    <tr>\n",
       "      <th>1</th>\n",
       "      <td>the purpose of collecting additional data</td>\n",
       "      <td>policy</td>\n",
       "    </tr>\n",
       "    <tr>\n",
       "      <th>2</th>\n",
       "      <td>why collecting the account information</td>\n",
       "      <td>policy</td>\n",
       "    </tr>\n",
       "    <tr>\n",
       "      <th>3</th>\n",
       "      <td>where delivered messages are stored</td>\n",
       "      <td>data</td>\n",
       "    </tr>\n",
       "    <tr>\n",
       "      <th>4</th>\n",
       "      <td>how to deal with undelivered messages</td>\n",
       "      <td>process</td>\n",
       "    </tr>\n",
       "  </tbody>\n",
       "</table>\n",
       "</div>"
      ],
      "text/plain": [
       "                         information element   classe\n",
       "0             the purpose of collecting data   policy\n",
       "1  the purpose of collecting additional data   policy\n",
       "2     why collecting the account information   policy\n",
       "3        where delivered messages are stored     data\n",
       "4      how to deal with undelivered messages  process"
      ]
     },
     "execution_count": 2,
     "metadata": {},
     "output_type": "execute_result"
    }
   ],
   "source": [
    "df = pd.read_csv (\"classifier2.csv\",on_bad_lines='skip')\n",
    "# df\n",
    "df.head()"
   ]
  },
  {
   "cell_type": "code",
   "execution_count": 3,
   "id": "d9972ac7",
   "metadata": {},
   "outputs": [],
   "source": [
    "# turn the classes and paragraphs into lists \n",
    "\n",
    "IEs = df['information element'].tolist()\n",
    "classes = df['classe'].tolist()"
   ]
  },
  {
   "cell_type": "code",
   "execution_count": 4,
   "id": "2e296c15",
   "metadata": {},
   "outputs": [
    {
     "data": {
      "text/plain": [
       "('the purpose of collecting additional data', 'policy')"
      ]
     },
     "execution_count": 4,
     "metadata": {},
     "output_type": "execute_result"
    }
   ],
   "source": [
    "IEs [1], classes [1]"
   ]
  },
  {
   "cell_type": "code",
   "execution_count": 6,
   "id": "7b5ec1a7",
   "metadata": {},
   "outputs": [],
   "source": [
    "# It is better to split the dataset only once and store the two datasets in two separate files\n",
    "# If the samples (separate workouts) will be different then we can't\n",
    "# compare between different models if you apply separate training\n",
    "\n",
    "X1_train, X1_test, y_train, y_test = train_test_split(df[\"information element\"],df[\"classe\"],test_size=0.2, random_state=42)\n",
    "\n",
    "count_vectorizer = CountVectorizer()\n",
    "X_train = count_vectorizer.fit_transform(X1_train)\n",
    "X_test = count_vectorizer.transform(X1_test)"
   ]
  },
  {
   "cell_type": "code",
   "execution_count": 7,
   "id": "b6042e85",
   "metadata": {},
   "outputs": [
    {
     "data": {
      "text/plain": [
       "MultinomialNB()"
      ]
     },
     "execution_count": 7,
     "metadata": {},
     "output_type": "execute_result"
    }
   ],
   "source": [
    "#training Naive Bayes\n",
    "\n",
    "naive_bayes = MultinomialNB()\n",
    "naive_bayes.fit(X_train, y_train)"
   ]
  },
  {
   "cell_type": "code",
   "execution_count": 8,
   "id": "36fb74bd",
   "metadata": {},
   "outputs": [],
   "source": [
    "#test Naive Bayes\n",
    "\n",
    "Y_naive_bayes = naive_bayes.predict(X_test)"
   ]
  },
  {
   "cell_type": "code",
   "execution_count": 9,
   "id": "34af0428",
   "metadata": {},
   "outputs": [
    {
     "name": "stdout",
     "output_type": "stream",
     "text": [
      "              precision    recall  f1-score   support\n",
      "\n",
      "        data       1.00      1.00      1.00         1\n",
      "      policy       1.00      1.00      1.00         2\n",
      "     process       1.00      1.00      1.00         1\n",
      "\n",
      "    accuracy                           1.00         4\n",
      "   macro avg       1.00      1.00      1.00         4\n",
      "weighted avg       1.00      1.00      1.00         4\n",
      "\n"
     ]
    }
   ],
   "source": [
    "print(classification_report(y_test, Y_naive_bayes))"
   ]
  },
  {
   "cell_type": "code",
   "execution_count": 10,
   "id": "d646c192",
   "metadata": {},
   "outputs": [],
   "source": [
    "# The prediction function\n",
    "# For naive bayes, the prediction must go through the same pipeline\n",
    "\n",
    "def predict(text_str):\n",
    "    x_input = count_vectorizer.transform([text_str])\n",
    "    print (naive_bayes.predict(x_input))\n",
    "    return naive_bayes.predict_proba(x_input)[0]"
   ]
  },
  {
   "cell_type": "code",
   "execution_count": 11,
   "id": "e8b24eaa",
   "metadata": {},
   "outputs": [
    {
     "name": "stdout",
     "output_type": "stream",
     "text": [
      "['process']\n"
     ]
    },
    {
     "data": {
      "text/plain": [
       "array([0.0070974 , 0.03116045, 0.96174215])"
      ]
     },
     "execution_count": 11,
     "metadata": {},
     "output_type": "execute_result"
    }
   ],
   "source": [
    "#=====================================================================\n",
    "# UNIT TEST \n",
    "#=====================================================================\n",
    "# RESULTS : process\n",
    "#---------------------------------------------------------------------\n",
    "predict(\"how to deal with forwarded media\")"
   ]
  },
  {
   "cell_type": "code",
   "execution_count": 12,
   "id": "f4a16d76",
   "metadata": {},
   "outputs": [
    {
     "name": "stdout",
     "output_type": "stream",
     "text": [
      "['policy']\n"
     ]
    },
    {
     "data": {
      "text/plain": [
       "array([8.21144550e-04, 9.97168023e-01, 2.01083200e-03])"
      ]
     },
     "execution_count": 12,
     "metadata": {},
     "output_type": "execute_result"
    }
   ],
   "source": [
    "#=====================================================================\n",
    "# UNIT TEST \n",
    "#=====================================================================\n",
    "# RESULTS : policy\n",
    "#---------------------------------------------------------------------\n",
    "predict(\"the purpose of using end to end encryption\")"
   ]
  },
  {
   "cell_type": "code",
   "execution_count": 13,
   "id": "ed7fa086",
   "metadata": {},
   "outputs": [
    {
     "name": "stdout",
     "output_type": "stream",
     "text": [
      "['data']\n"
     ]
    },
    {
     "data": {
      "text/plain": [
       "array([0.79448022, 0.07630188, 0.1292179 ])"
      ]
     },
     "execution_count": 13,
     "metadata": {},
     "output_type": "execute_result"
    }
   ],
   "source": [
    "#=====================================================================\n",
    "# UNIT TEST \n",
    "#=====================================================================\n",
    "# RESULTS : data\n",
    "#---------------------------------------------------------------------\n",
    "predict(\"where delivered messages are stored\")"
   ]
  },
  {
   "cell_type": "code",
   "execution_count": 14,
   "id": "69a6784c",
   "metadata": {},
   "outputs": [],
   "source": [
    "import pickle\n",
    "pickle.dump(naive_bayes, open('./naive_bayes_2.pkl', 'wb'))\n",
    "pickle.dump(count_vectorizer, open('./count_vectorizer_2.pkl', 'wb'))"
   ]
  },
  {
   "cell_type": "code",
   "execution_count": 15,
   "id": "1529c874",
   "metadata": {},
   "outputs": [
    {
     "data": {
      "text/plain": [
       "MultinomialNB()"
      ]
     },
     "execution_count": 15,
     "metadata": {},
     "output_type": "execute_result"
    }
   ],
   "source": [
    "naive_bayes = pickle.load(open('naive_bayes_2.pkl', 'rb'))\n",
    "naive_bayes"
   ]
  },
  {
   "cell_type": "code",
   "execution_count": 16,
   "id": "bc3823c0",
   "metadata": {},
   "outputs": [
    {
     "data": {
      "text/plain": [
       "CountVectorizer()"
      ]
     },
     "execution_count": 16,
     "metadata": {},
     "output_type": "execute_result"
    }
   ],
   "source": [
    "count_vectorizer = pickle.load(open('count_vectorizer_2.pkl', 'rb'))\n",
    "count_vectorizer"
   ]
  },
  {
   "cell_type": "code",
   "execution_count": 17,
   "id": "2f1e9c79",
   "metadata": {},
   "outputs": [
    {
     "data": {
      "text/plain": [
       "'policy'"
      ]
     },
     "execution_count": 17,
     "metadata": {},
     "output_type": "execute_result"
    }
   ],
   "source": [
    "#===========================================================================================\n",
    "# Testing the prediction function using the reloaded objects (ML model + Count Vectorizer)\n",
    "#===========================================================================================\n",
    "# RESULTS : policy\n",
    "#-------------------------------------------------------------------------------------------\n",
    "from scipy.sparse import csr_matrix\n",
    "str = ['the purpose of using end to end encryption']\n",
    "x_input = count_vectorizer.transform([word.lower() for word in str])\n",
    "csr_matrix.toarray(x_input)\n",
    "# print (csr_matrix.toarray(x_input)[0])\n",
    "naive_bayes.predict(csr_matrix.toarray(x_input))[0]"
   ]
  }
 ],
 "metadata": {
  "kernelspec": {
   "display_name": "venv",
   "language": "python",
   "name": "venv"
  },
  "language_info": {
   "codemirror_mode": {
    "name": "ipython",
    "version": 3
   },
   "file_extension": ".py",
   "mimetype": "text/x-python",
   "name": "python",
   "nbconvert_exporter": "python",
   "pygments_lexer": "ipython3",
   "version": "3.9.5"
  }
 },
 "nbformat": 4,
 "nbformat_minor": 5
}
